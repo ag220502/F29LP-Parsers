{
 "cells": [
  {
   "cell_type": "markdown",
   "id": "44d472ac",
   "metadata": {},
   "source": [
    "# Lecture 4 - Parsers"
   ]
  },
  {
   "cell_type": "markdown",
   "id": "aadcd9f4",
   "metadata": {},
   "source": [
    "See below the code for an easy recognizer for the grammar \n",
    "\n",
    "```\n",
    "A ::= id | B\n",
    "B ::= int | (A)\n",
    "```"
   ]
  },
  {
   "cell_type": "code",
   "execution_count": 1,
   "id": "f880d3fa",
   "metadata": {},
   "outputs": [
    {
     "data": {
      "text/plain": [
       "type token = ID of string | INT of int | LBRA | RBRA | EOF\n"
      ]
     },
     "execution_count": 1,
     "metadata": {},
     "output_type": "execute_result"
    },
    {
     "data": {
      "text/plain": [
       "exception SyntaxError of string\n"
      ]
     },
     "execution_count": 1,
     "metadata": {},
     "output_type": "execute_result"
    },
    {
     "data": {
      "text/plain": [
       "val parseA : token list -> token list = <fun>\n",
       "val parseB : token list -> token list = <fun>\n"
      ]
     },
     "execution_count": 1,
     "metadata": {},
     "output_type": "execute_result"
    }
   ],
   "source": [
    "type token = ID of string | INT of int | LBRA | RBRA | EOF\n",
    "\n",
    "exception SyntaxError of string\n",
    "\n",
    "let rec parseA (ts : token list) : token list = \n",
    "    match ts with \n",
    "    | ID x :: ts' -> ts'\n",
    "    | _ -> parseB ts\n",
    "    \n",
    "and parseB (ts: token list) : token list = \n",
    "    match ts with\n",
    "    | INT x :: ts' -> ts'\n",
    "    | LBRA :: ts' -> (let ts'' = parseA ts'\n",
    "                       in (match ts'' with \n",
    "                           | RBRA :: ts''' -> ts'''\n",
    "                           | _ -> raise (SyntaxError \"Expected RBRA.\")\n",
    "                           ))\n",
    "    | _ -> raise (SyntaxError \"Expected INT or LBRA\") "
   ]
  },
  {
   "cell_type": "code",
   "execution_count": 2,
   "id": "550b97ef",
   "metadata": {},
   "outputs": [
    {
     "data": {
      "text/plain": [
       "- : token list = []\n"
      ]
     },
     "execution_count": 2,
     "metadata": {},
     "output_type": "execute_result"
    }
   ],
   "source": [
    "parseA [LBRA; INT 4; RBRA]"
   ]
  },
  {
   "cell_type": "code",
   "execution_count": 3,
   "id": "2a61fb3f",
   "metadata": {},
   "outputs": [
    {
     "data": {
      "text/plain": [
       "- : token list = [LBRA; RBRA]\n"
      ]
     },
     "execution_count": 3,
     "metadata": {},
     "output_type": "execute_result"
    }
   ],
   "source": [
    "parseA [ID \"x\"; LBRA; RBRA]"
   ]
  },
  {
   "cell_type": "code",
   "execution_count": 4,
   "id": "b09bc129",
   "metadata": {},
   "outputs": [
    {
     "ename": "error",
     "evalue": "runtime_error",
     "output_type": "error",
     "traceback": [
      "\u001b[31mException: SyntaxError \"Expected INT or LBRA\".\nRaised at parseB in file \"[1]\", line 18, characters 11-53\nCalled from Stdlib__Fun.protect in file \"fun.ml\", line 33, characters 8-15\nRe-raised at Stdlib__Fun.protect in file \"fun.ml\", line 38, characters 6-52\nCalled from Topeval.load_lambda in file \"toplevel/byte/topeval.ml\", line 89, characters 4-150\n\u001b[0m"
     ]
    }
   ],
   "source": [
    "parseA [RBRA; INT 4]"
   ]
  },
  {
   "cell_type": "code",
   "execution_count": 5,
   "id": "188442ee",
   "metadata": {},
   "outputs": [
    {
     "ename": "error",
     "evalue": "runtime_error",
     "output_type": "error",
     "traceback": [
      "\u001b[31mException: SyntaxError \"Expected INT or LBRA\".\nRaised at parseB in file \"[1]\", line 18, characters 11-53\nCalled from Stdlib__Fun.protect in file \"fun.ml\", line 33, characters 8-15\nRe-raised at Stdlib__Fun.protect in file \"fun.ml\", line 38, characters 6-52\nCalled from Topeval.load_lambda in file \"toplevel/byte/topeval.ml\", line 89, characters 4-150\n\u001b[0m"
     ]
    }
   ],
   "source": [
    "parseB [ID \"x\"]"
   ]
  },
  {
   "cell_type": "code",
   "execution_count": 6,
   "id": "d0836de1",
   "metadata": {},
   "outputs": [
    {
     "data": {
      "text/plain": [
       "- : token list = []\n"
      ]
     },
     "execution_count": 6,
     "metadata": {},
     "output_type": "execute_result"
    }
   ],
   "source": [
    "parseB [LBRA; LBRA; INT 3; RBRA; RBRA]"
   ]
  },
  {
   "cell_type": "markdown",
   "id": "dd28a5c4",
   "metadata": {},
   "source": [
    "This is easily extended to a full parser which also yields a parse tree: "
   ]
  },
  {
   "cell_type": "code",
   "execution_count": 8,
   "id": "21db7dad",
   "metadata": {},
   "outputs": [
    {
     "data": {
      "text/plain": [
       "type parsetree =\n",
       "    A1 of token\n",
       "  | A2 of parsetree\n",
       "  | B1 of token\n",
       "  | B2 of token * parsetree * token\n"
      ]
     },
     "execution_count": 8,
     "metadata": {},
     "output_type": "execute_result"
    },
    {
     "data": {
      "text/plain": [
       "val parseA : token list -> token list * parsetree = <fun>\n",
       "val parseB : token list -> token list * parsetree = <fun>\n"
      ]
     },
     "execution_count": 8,
     "metadata": {},
     "output_type": "execute_result"
    }
   ],
   "source": [
    "type parsetree = A1 of token | A2 of parsetree | B1 of token | B2 of token * parsetree * token \n",
    "\n",
    "let rec parseA (ts : token list) : token list * parsetree = \n",
    "    match ts with \n",
    "    | ID x :: ts' -> (ts', A1 (ID x))\n",
    "    | _ -> let (ts',ast) = parseB ts\n",
    "           in (ts', A2 ast)\n",
    "    \n",
    "and parseB (ts: token list) : token list * parsetree = \n",
    "    match ts with\n",
    "    | INT x :: ts' -> (ts', B1 (INT x))\n",
    "    | LBRA :: ts' -> (let (ts'', ast) = parseA ts'\n",
    "                       in (match ts'' with \n",
    "                           | RBRA :: ts''' -> (ts''', B2 (LBRA, ast, RBRA))\n",
    "                           | _ -> raise (SyntaxError \"Expected RPAREN.\")\n",
    "                           ))\n",
    "    | _ -> raise (SyntaxError \"Expected INT or LBRA\") "
   ]
  },
  {
   "cell_type": "code",
   "execution_count": 9,
   "id": "981834f9",
   "metadata": {},
   "outputs": [
    {
     "data": {
      "text/plain": [
       "- : token list * parsetree = ([], A2 (B2 (LBRA, A2 (B1 (INT 4)), RBRA)))\n"
      ]
     },
     "execution_count": 9,
     "metadata": {},
     "output_type": "execute_result"
    }
   ],
   "source": [
    "parseA [LBRA; INT 4; RBRA]"
   ]
  },
  {
   "cell_type": "code",
   "execution_count": null,
   "id": "ba724835",
   "metadata": {},
   "outputs": [],
   "source": [
    "parseA [ID \"x\"; LBRA; RBRA]"
   ]
  },
  {
   "cell_type": "code",
   "execution_count": null,
   "id": "9b26fd6d",
   "metadata": {},
   "outputs": [],
   "source": [
    "parseA [RBRA; INT 4]"
   ]
  },
  {
   "cell_type": "code",
   "execution_count": null,
   "id": "28c57ec9",
   "metadata": {},
   "outputs": [],
   "source": [
    "parseB [ID \"x\"]"
   ]
  },
  {
   "cell_type": "code",
   "execution_count": null,
   "id": "521ac421",
   "metadata": {},
   "outputs": [],
   "source": [
    "parseB [LBRA; LBRA; INT 3; RBRA; RBRA]"
   ]
  },
  {
   "cell_type": "markdown",
   "id": "96ba169f",
   "metadata": {},
   "source": [
    "## Example Recursive Descent Recognizer\n",
    "\n",
    "See the following concrete grammar for listing ints separated by a semicolon: \n",
    "\n",
    "```\n",
    "L := INT R\n",
    "R := ; L | ε\n",
    "```"
   ]
  },
  {
   "cell_type": "code",
   "execution_count": null,
   "id": "dd230d30",
   "metadata": {},
   "outputs": [],
   "source": [
    "type token =  INT | SEMI | EOF\n",
    "\n",
    "let parse_token (x : token) (xs : token list) = match xs with \n",
    "| y :: ys -> if (x == y) then ys else raise (SyntaxError \"Token expected.\")\n",
    "| _ -> raise (SyntaxError \"Token expected.\") \n",
    "\n",
    "let rec parseL ts = parseR (parse_token INT ts)\n",
    "\n",
    "and parseR ts = match ts with \n",
    "                | SEMI :: ts' -> parseL ts'\n",
    "                | ts' -> ts'"
   ]
  },
  {
   "cell_type": "code",
   "execution_count": null,
   "id": "a5cc39d2",
   "metadata": {},
   "outputs": [],
   "source": [
    "parseL [ INT; SEMI; INT]"
   ]
  },
  {
   "cell_type": "code",
   "execution_count": null,
   "id": "27f0c7c4",
   "metadata": {},
   "outputs": [],
   "source": [
    "parseL [INT; SEMI]"
   ]
  },
  {
   "cell_type": "markdown",
   "id": "6388d0a2",
   "metadata": {},
   "source": [
    "## Example Left Recursion \n",
    "\n",
    "See the following left-recursive grammar for non-empty lists: \n",
    "\n",
    "```\n",
    "L ::= [int C]\n",
    "C ::=  C ; int  | ε\n",
    "```\n",
    "\n",
    "We can define a recursive-descent parser..."
   ]
  },
  {
   "cell_type": "code",
   "execution_count": null,
   "id": "67dd5aef",
   "metadata": {},
   "outputs": [],
   "source": [
    "type token = LBRA | RBRA | INT | SEMI | EOF\n",
    "\n",
    "let parse_token (x : token) (xs : token list) = match xs with \n",
    "| y :: ys -> if (x == y) then ys else raise (SyntaxError \"Token expected.\")\n",
    "| _ -> raise (SyntaxError \"Token expected.\") \n",
    "\n",
    "let rec parseL ts = parse_token RBRA (parseC (parse_token LBRA ts))\n",
    "\n",
    "and parseC ts = match ts with \n",
    "    | SEMI :: ts' -> parse_token INT (parse_token SEMI (parseC ts)) \n",
    "    | _ -> ts  "
   ]
  },
  {
   "cell_type": "markdown",
   "id": "2e17afff",
   "metadata": {},
   "source": [
    "... but running it leads to divergence: "
   ]
  },
  {
   "cell_type": "code",
   "execution_count": null,
   "id": "366e3855",
   "metadata": {},
   "outputs": [],
   "source": [
    "parseC [SEMI; INT; SEMI; INT]"
   ]
  },
  {
   "cell_type": "markdown",
   "id": "cd751141",
   "metadata": {},
   "source": [
    "## List Recognizer\n",
    "\n",
    "See the following concrete grammar for lists: \n",
    "\n",
    "```\n",
    "L ::= (  [C]  )\n",
    "C ::= int [;  C] \n",
    "```\n",
    "\n",
    "We can define the recognizer as follows:"
   ]
  },
  {
   "cell_type": "code",
   "execution_count": null,
   "id": "f09118cb",
   "metadata": {},
   "outputs": [],
   "source": [
    "type token = LBRA | RBRA | INT | SEMI | EOF\n",
    "\n",
    "let parse_token (x : token) (xs : token list) = match xs with \n",
    "| y :: ys -> if (x == y) then ys else raise (SyntaxError \"Token expected.\")\n",
    "| _ -> raise (SyntaxError \"Token expected.\") \n",
    "\n",
    "let rec parseL ts = match (parse_token LBRA ts) with \n",
    "                    | RBRA :: ts' -> ts'\n",
    "                    | ts' -> parse_token RBRA (parseC ts')\n",
    "\n",
    "and parseC ts = match (parse_token INT ts) with \n",
    "                | SEMI :: ts' -> parseC ts'\n",
    "                | ts' -> ts'"
   ]
  },
  {
   "cell_type": "code",
   "execution_count": null,
   "id": "82a0012b",
   "metadata": {},
   "outputs": [],
   "source": [
    "parseL [LBRA; INT; SEMI; INT; RBRA]"
   ]
  },
  {
   "cell_type": "markdown",
   "id": "8bd4aaf0",
   "metadata": {},
   "source": [
    "## Expressions \n",
    "\n",
    "In the lecture you have learned how to get a concrete grammar for expressions: \n",
    "```\n",
    "exp := term [{+/-} exp]\n",
    "term := base [{*|/} term]\n",
    "base := id | int | (exp)\n",
    "\n",
    "```\n",
    "\n",
    "Below you can find the corresponding parser:"
   ]
  },
  {
   "cell_type": "code",
   "execution_count": 10,
   "id": "8bf72565",
   "metadata": {},
   "outputs": [
    {
     "data": {
      "text/plain": [
       "type op = Plus | Minus | Mult | Div\n"
      ]
     },
     "execution_count": 10,
     "metadata": {},
     "output_type": "execute_result"
    },
    {
     "data": {
      "text/plain": [
       "type exp = Id of string | Numb of int | Op of exp * op * exp\n"
      ]
     },
     "execution_count": 10,
     "metadata": {},
     "output_type": "execute_result"
    },
    {
     "data": {
      "text/plain": [
       "type token =\n",
       "    ID of string\n",
       "  | INT of int\n",
       "  | PLUS\n",
       "  | MINUS\n",
       "  | STAR\n",
       "  | SLASH\n",
       "  | LBRA\n",
       "  | RBRA\n"
      ]
     },
     "execution_count": 10,
     "metadata": {},
     "output_type": "execute_result"
    },
    {
     "data": {
      "text/plain": [
       "val parse_token : token -> token list -> token list = <fun>\n"
      ]
     },
     "execution_count": 10,
     "metadata": {},
     "output_type": "execute_result"
    },
    {
     "data": {
      "text/plain": [
       "val parse_exp : token list -> exp * token list = <fun>\n",
       "val parse_term : token list -> exp * token list = <fun>\n",
       "val parse_base : token list -> exp * token list = <fun>\n"
      ]
     },
     "execution_count": 10,
     "metadata": {},
     "output_type": "execute_result"
    }
   ],
   "source": [
    "type op = Plus | Minus | Mult | Div \n",
    "type exp = Id of string | Numb of int | Op of exp * op * exp \n",
    "\n",
    "type token = ID of string | INT of int\n",
    "           | PLUS  | MINUS | STAR | SLASH \n",
    "           | LBRA | RBRA \n",
    "\n",
    "let parse_token (x : token) (xs : token list) = match xs with \n",
    "| y :: ys -> if (x == y) then ys else raise (SyntaxError \"Token expected.\")\n",
    "| _ -> raise (SyntaxError \"Token expected.\") \n",
    "\n",
    "           \n",
    "let rec parse_exp (xs : token list) : exp * token list = \n",
    "let (e1, xs') = parse_term xs in \n",
    "  match xs' with \n",
    "  | PLUS :: xs'' -> let \n",
    "      (e2, xs''') = parse_exp xs'' \n",
    "      in (Op (e1, Plus, e2), xs''')\n",
    "  | MINUS :: xs'' -> let \n",
    "      (e2, xs''') = parse_exp xs'' \n",
    "      in (Op (e1, Minus, e2), xs''')\n",
    "  | _ -> (e1, xs') \n",
    "           \n",
    "and parse_term (xs : token list) : exp * token list = let \n",
    "  (e1, xs') = parse_base xs in \n",
    "  match xs' with \n",
    "  | STAR :: xs'' -> let \n",
    "    (e2, xs''') = parse_term xs''\n",
    "      in (Op (e1, Mult, e2), xs''') \n",
    "  | SLASH :: xs'' -> let \n",
    "    (e2, xs''') = parse_term xs''\n",
    "      in (Op (e1, Div, e2), xs''')    \n",
    "  | _ -> (e1, xs')\n",
    "  \n",
    "and parse_base (xs : token list) : exp * token list = \n",
    "match xs with \n",
    "  | ID x :: xs' -> (Id x, xs')\n",
    "  | INT x :: xs' -> (Numb x , xs')\n",
    "  | LBRA :: xs' -> (let \n",
    "        (e, xs'') = parse_exp xs' in let\n",
    "         xs''' = parse_token RBRA xs''\n",
    "      in (e, xs'''))\n",
    "  | _ -> raise (SyntaxError \"Expected ID, INT or LBRA.\")   "
   ]
  },
  {
   "cell_type": "code",
   "execution_count": 11,
   "id": "21627589",
   "metadata": {},
   "outputs": [
    {
     "data": {
      "text/plain": [
       "- : exp * token list =\n",
       "(Op (Op (Numb 3, Plus, Id \"x\"), Mult, Op (Numb 5, Minus, Numb 2)), [])\n"
      ]
     },
     "execution_count": 11,
     "metadata": {},
     "output_type": "execute_result"
    }
   ],
   "source": [
    "parse_exp [LBRA; INT 3; PLUS; ID \"x\"; RBRA; STAR; LBRA; INT 5; MINUS; INT 2; RBRA]"
   ]
  },
  {
   "cell_type": "markdown",
   "id": "963672e5",
   "metadata": {},
   "source": [
    "## Parsing Left-Assocative Grammars"
   ]
  },
  {
   "cell_type": "markdown",
   "id": "81912441",
   "metadata": {},
   "source": [
    "We want to parse tokens according to the following grammar: \n",
    "\n",
    "```\n",
    "bexp ::= bexp && base | base\n",
    "base ::= true | false | (bexp) \n",
    "```\n",
    "\n",
    "As this definition is left-recursive, we have to left-factor it: \n",
    "\n",
    "```\n",
    "bexp ::= base bexp’\n",
    "bexp’ ::= && base bexp’ | ε\n",
    "base ::= true | false | (bexp)\n",
    "```"
   ]
  },
  {
   "cell_type": "code",
   "execution_count": null,
   "id": "11591975",
   "metadata": {},
   "outputs": [],
   "source": [
    "type token = TRUE | FALSE | ANDB | LPAREN | RPAREN | EOF\n",
    "\n",
    "let parse_token (x : token) (xs : token list) = match xs with \n",
    "| y :: ys -> if (x == y) then ys else raise (SyntaxError \"Token expected.\")\n",
    "| _ -> raise (SyntaxError \"Token expected.\") \n",
    "\n",
    "type bexp = True | False | Andb of bexp * bexp "
   ]
  },
  {
   "cell_type": "markdown",
   "id": "d6371ffe",
   "metadata": {},
   "source": [
    "Let's try writing a parser for this grammar. \n",
    "Something of category ``parse_bexp`` might return a ``bexp`` or nothing (it allows the empty production). \n",
    "\n",
    "We hence use ``option bexp`` as return type.\n",
    "\n",
    "See https://cs3110.github.io/textbook/chapters/data/options.html if you need a reminder on options."
   ]
  },
  {
   "cell_type": "code",
   "execution_count": null,
   "id": "96275e4f",
   "metadata": {},
   "outputs": [],
   "source": [
    "let rec parse_bexp ts : bexp * token list = let \n",
    "    (b, ts') = parse_base ts in let\n",
    "    (c_option, ts'') = parse_bexp' ts' in \n",
    "    match c_option with \n",
    "    | None -> (b, ts'')\n",
    "    | Some c -> (Andb (b, c), ts'')\n",
    "\n",
    "\n",
    "and parse_bexp' ts : bexp option * token list = match ts with \n",
    " | ANDB :: ts' -> (let \n",
    "                  (c1, ts'') = parse_base ts' in let \n",
    "                  (c2_option, ts''') = parse_bexp' ts'' in \n",
    "                  match c2_option with \n",
    "                  | None -> (Some c1, ts''')\n",
    "                  | Some c2 -> (Some (Andb (c1, c2)), ts'''))\n",
    " | _ -> (None, ts)\n",
    " \n",
    "and parse_base ts = match ts with \n",
    "  | TRUE :: ts' -> (True, ts')\n",
    "  | FALSE :: ts' -> (False, ts')\n",
    "  | LPAREN :: ts' -> let \n",
    "                     (b, ts'') = parse_bexp ts' in let\n",
    "                     ts''' = parse_token RPAREN ts'' in \n",
    "                     (b, ts''')\n",
    "  | _ -> raise (SyntaxError \"TRUE, FALSE or LPAREN expected.\")"
   ]
  },
  {
   "cell_type": "markdown",
   "id": "ab1f23fe",
   "metadata": {},
   "source": [
    "The produced parser recognizes the right expressions..."
   ]
  },
  {
   "cell_type": "code",
   "execution_count": null,
   "id": "82f0850d",
   "metadata": {},
   "outputs": [],
   "source": [
    "parse_bexp [TRUE; ANDB; FALSE; ANDB; TRUE];;\n",
    "\n",
    "parse_bexp [TRUE; ANDB; FALSE; ANDB; LPAREN; TRUE; ANDB; FALSE; RPAREN];;\n",
    "\n",
    "parse_bexp [TRUE; ANDB; FALSE; ANDB; TRUE; ANDB; LPAREN; TRUE; ANDB; FALSE; RPAREN]"
   ]
  },
  {
   "cell_type": "markdown",
   "id": "b43dc7df",
   "metadata": {},
   "source": [
    "... but is right-associative.\n",
    "\n",
    "This is because a right-recursive grammar always yields right-recursive parse trees. \n",
    "We have to fix the parse trees while building them. \n",
    "\n",
    "We can do so by carrying around the expression we want to attach:"
   ]
  },
  {
   "cell_type": "code",
   "execution_count": null,
   "id": "f9e92a4a",
   "metadata": {},
   "outputs": [],
   "source": [
    "let rec parse_bexp ts : bexp * token list = let \n",
    "    (b, ts') = parse_base ts in \n",
    "     parse_bexp' b ts' \n",
    "\n",
    "\n",
    "and parse_bexp' b ts : bexp * token list = match ts with \n",
    " | ANDB :: ts' -> let \n",
    "                  (c1, ts'') = parse_base ts' in \n",
    "                  parse_bexp' (Andb (b, c1)) ts'' \n",
    " | _ -> (b, ts)\n",
    " \n",
    "and parse_base ts = match ts with \n",
    "  | TRUE :: ts' -> (True, ts')\n",
    "  | FALSE :: ts' -> (False, ts')\n",
    "  | LPAREN :: ts' -> let \n",
    "                     (b, ts'') = parse_bexp ts' in let\n",
    "                     ts''' = parse_token RPAREN ts'' in \n",
    "                     (b, ts''')\n",
    "  | _ -> raise (SyntaxError \"TRUE, FALSE or LPAREN expected.\")"
   ]
  },
  {
   "cell_type": "code",
   "execution_count": null,
   "id": "e712a24b",
   "metadata": {},
   "outputs": [],
   "source": [
    "parse_bexp [TRUE; ANDB; FALSE; ANDB; TRUE];;\n",
    "\n",
    "parse_bexp [TRUE; ANDB; FALSE; ANDB; LPAREN; TRUE; ANDB; FALSE; RPAREN];;\n",
    "\n",
    "parse_bexp [TRUE; ANDB; FALSE; ANDB; TRUE; ANDB; LPAREN; TRUE; ANDB; FALSE; RPAREN]"
   ]
  }
 ],
 "metadata": {
  "kernelspec": {
   "display_name": "OCaml 4.13",
   "language": "OCaml",
   "name": "ocaml-jupyter-4.13"
  },
  "language_info": {
   "codemirror_mode": "text/x-ocaml",
   "file_extension": ".ml",
   "mimetype": "text/x-ocaml",
   "name": "OCaml",
   "nbconverter_exporter": null,
   "pygments_lexer": "OCaml",
   "version": "4.13.1"
  }
 },
 "nbformat": 4,
 "nbformat_minor": 5
}
