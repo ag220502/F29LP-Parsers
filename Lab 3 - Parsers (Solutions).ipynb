{
 "cells": [
  {
   "cell_type": "markdown",
   "id": "34c355d7",
   "metadata": {
    "kernel": "SoS"
   },
   "source": [
    "# Lab 3\n",
    "\n",
    "- It is recommended to **go through this file with a partner**. \n",
    "- Ensure to **ask** if anything is not clear - first your partner, then a lab helper.\n",
    "- You want to first go through the accompanying code of the lectures."
   ]
  },
  {
   "cell_type": "markdown",
   "id": "2da844ce",
   "metadata": {
    "kernel": "SoS"
   },
   "source": [
    "In this lab, you will write a full parser for ``SIMP``. \n",
    "\n",
    "**HINT:** As it's easy to get stuck here, the solutions are already available in the repository."
   ]
  },
  {
   "cell_type": "code",
   "execution_count": 2,
   "id": "517392be",
   "metadata": {
    "kernel": "Python 3 (ipykernel)"
   },
   "outputs": [],
   "source": [
    "from jupyterquiz import display_quiz\n",
    "\n",
    "question_path=\"./\""
   ]
  },
  {
   "cell_type": "markdown",
   "id": "522be80e",
   "metadata": {
    "kernel": "SoS"
   },
   "source": [
    "Here is a grammar for``SIMP``. \n",
    "(This one has a slightly different definition for declarations compared to the grammar you saw in the lecture.)\n",
    "\n",
    "```\n",
    "program ::=  [declarations] commands \n",
    "declarations ::= declaration; | declaration; declarations \n",
    "declaration ::= VAR identifier\n",
    "\n",
    "commands ::= command | command; commands\n",
    "command ::= identifier := exp | IF condexp THEN command | IF condexp THEN command ELSE command | WHILE condexp DO command | BEGIN program END | INPUT identifier | PRINT exp \n",
    "\n",
    "comp := = | != | <= | < | >= | >\n",
    "condexp := exp comp exp \n",
    "exp  ::= identifier | number | exp + exp | exp – exp | exp * exp | exp / exp | - exp \n",
    "```"
   ]
  },
  {
   "cell_type": "markdown",
   "id": "5442293e",
   "metadata": {
    "kernel": "Python 3 (ipykernel)"
   },
   "source": [
    "Recall abstract syntax and tokens for ``SIMP``:"
   ]
  },
  {
   "cell_type": "code",
   "execution_count": 6,
   "id": "3505bb74",
   "metadata": {
    "kernel": "OCaml 4.13"
   },
   "outputs": [
    {
     "data": {
      "text/plain": [
       "exception SyntaxError of string\n"
      ]
     },
     "execution_count": 6,
     "metadata": {},
     "output_type": "execute_result"
    },
    {
     "data": {
      "text/plain": [
       "type op = Plus | Minus | Mult | Div\n"
      ]
     },
     "execution_count": 6,
     "metadata": {},
     "output_type": "execute_result"
    },
    {
     "data": {
      "text/plain": [
       "type exp = Id of string | Numb of int | Op of exp * op * exp | Neg of exp\n"
      ]
     },
     "execution_count": 6,
     "metadata": {},
     "output_type": "execute_result"
    },
    {
     "data": {
      "text/plain": [
       "type cond = Eq | Neq | Lte | Lt | Gte | Gt\n"
      ]
     },
     "execution_count": 6,
     "metadata": {},
     "output_type": "execute_result"
    },
    {
     "data": {
      "text/plain": [
       "type condexp = Cop of exp * cond * exp\n"
      ]
     },
     "execution_count": 6,
     "metadata": {},
     "output_type": "execute_result"
    },
    {
     "data": {
      "text/plain": [
       "type cmd =\n",
       "    Asgn of string * exp\n",
       "  | Ite of condexp * cmd * cmd\n",
       "  | If of condexp * cmd\n",
       "  | While of condexp * cmd\n",
       "  | Begin of program\n",
       "  | Input of string\n",
       "  | Print of exp\n",
       "and program = Program of string list * cmd list\n"
      ]
     },
     "execution_count": 6,
     "metadata": {},
     "output_type": "execute_result"
    },
    {
     "data": {
      "text/plain": [
       "type token =\n",
       "    SEMI\n",
       "  | VAR\n",
       "  | ASGN\n",
       "  | IF\n",
       "  | THEN\n",
       "  | ELSE\n",
       "  | WHILE\n",
       "  | DO\n",
       "  | BEGIN\n",
       "  | END\n",
       "  | INPUT\n",
       "  | PRINT\n",
       "  | EQ\n",
       "  | NEQ\n",
       "  | LTE\n",
       "  | LT\n",
       "  | GTE\n",
       "  | GT\n",
       "  | ID of string\n",
       "  | INT of int\n",
       "  | PLUS\n",
       "  | MINUS\n",
       "  | STAR\n",
       "  | SLASH\n",
       "  | LBRA\n",
       "  | RBRA\n",
       "  | EOF\n"
      ]
     },
     "execution_count": 6,
     "metadata": {},
     "output_type": "execute_result"
    },
    {
     "data": {
      "text/plain": [
       "val parse_token : token -> token list -> token list = <fun>\n"
      ]
     },
     "execution_count": 6,
     "metadata": {},
     "output_type": "execute_result"
    }
   ],
   "source": [
    "(* Abstract syntax, tokens and helper functions *)\n",
    "\n",
    "exception SyntaxError of string\n",
    "\n",
    "type op = Plus | Minus | Mult | Div \n",
    "\n",
    "type exp = Id of string | Numb of int | Op of exp * op * exp | Neg of exp\n",
    "\n",
    "type cond = Eq | Neq | Lte | Lt | Gte | Gt \n",
    "type condexp = Cop of exp * cond * exp\n",
    "                                          \n",
    "type cmd = Asgn of string * exp \n",
    "         | Ite of condexp * cmd * cmd | If of condexp * cmd \n",
    "         | While of condexp * cmd\n",
    "         | Begin of program \n",
    "         | Input of string\n",
    "         | Print of exp \n",
    "         \n",
    "and program = Program of string list * cmd list\n",
    "\n",
    "type token = SEMI | VAR | ASGN | IF | THEN | ELSE\n",
    "            | WHILE | DO | BEGIN | END | INPUT | PRINT\n",
    "            | EQ | NEQ | LTE | LT | GTE | GT \n",
    "            | ID of string | INT of int\n",
    "            | PLUS  | MINUS | STAR | SLASH \n",
    "            | LBRA | RBRA \n",
    "            | EOF\n",
    "\n",
    "let parse_token (x : token) (xs : token list) = match xs with \n",
    "| y :: ys -> if (x == y) then ys else raise (SyntaxError \"Token expected.\")\n",
    "| _ -> raise (SyntaxError \"Token expected.\") "
   ]
  },
  {
   "cell_type": "markdown",
   "id": "69ded459",
   "metadata": {
    "kernel": "Python 3 (ipykernel)"
   },
   "source": [
    "## 1. LL(1) "
   ]
  },
  {
   "cell_type": "code",
   "execution_count": 3,
   "id": "871ee8af",
   "metadata": {
    "kernel": "Python 3 (ipykernel)"
   },
   "outputs": [],
   "source": [
    "display_quiz(question_path+\"questions31.json\")"
   ]
  },
  {
   "cell_type": "markdown",
   "id": "b55b1b1a",
   "metadata": {
    "kernel": "Python 3 (ipykernel)"
   },
   "source": [
    "## 2. Extend Expressions by Unary Negation \n",
    "\n",
    "1. Make ``exp`` LL(1) by building in precedence, and associativity, and eliminating left-recursion.\n",
    "\n",
    "Take care: Compared to the lecture, expressions can contain a factor, i.e. \n",
    "```\n",
    "[MINUS; ID \"x\"]\n",
    "```\n",
    "is a valid token sequence for expressions.\n",
    "\n",
    "All operators are right-associative. Multiplication/division bind stronger than addition/subtraction bind stronger than negation.\n",
    "E.g. - 2 * 3 + 5  binds as ((-2) * 3)  + 5."
   ]
  },
  {
   "cell_type": "markdown",
   "id": "9b5f6525",
   "metadata": {
    "kernel": "Python 3 (ipykernel)"
   },
   "source": [
    "(* SOLUTION *)\n",
    "```\n",
    "exp ::= term [{+|-} exp]\n",
    "term ::= factor [{*|/} term]\n",
    "factor ::= [-] base\n",
    "base ::= identifier | number | (exp)\n",
    "```"
   ]
  },
  {
   "cell_type": "markdown",
   "id": "65039c86",
   "metadata": {
    "kernel": "Python 3 (ipykernel)"
   },
   "source": [
    "2. Below is the previous definition of an expression parser without negation. Extend it with the new unary negation operation. You'll need a new category (see a)."
   ]
  },
  {
   "cell_type": "code",
   "execution_count": 7,
   "id": "4f56ba42",
   "metadata": {
    "kernel": "OCaml 4.13"
   },
   "outputs": [
    {
     "data": {
      "text/plain": [
       "val parse_exp : token list -> exp * token list = <fun>\n",
       "val parse_term : token list -> exp * token list = <fun>\n",
       "val parse_base : token list -> exp * token list = <fun>\n"
      ]
     },
     "execution_count": 7,
     "metadata": {},
     "output_type": "execute_result"
    }
   ],
   "source": [
    "let rec parse_exp (xs : token list) : exp * token list = let \n",
    "  (e1, xs') = parse_term xs in \n",
    "  match xs' with \n",
    "  | PLUS :: xs'' -> let \n",
    "      (e2, xs''') = parse_exp xs'' \n",
    "      in (Op (e1, Plus, e2), xs''')\n",
    "  | MINUS :: xs'' -> let \n",
    "      (e2, xs''') = parse_exp xs'' \n",
    "      in (Op (e1, Minus, e2), xs''')\n",
    "  | _ -> (e1, xs') \n",
    "           \n",
    "and parse_term (xs : token list) : exp * token list = let \n",
    "  (e1, xs') = parse_base xs in \n",
    "  match xs' with \n",
    "  | STAR :: xs'' -> let \n",
    "    (e2, xs''') = parse_term xs''\n",
    "      in (Op (e1, Mult, e2), xs''') \n",
    "  | SLASH :: xs'' -> let \n",
    "    (e2, xs''') = parse_term xs''\n",
    "      in (Op (e1, Div, e2), xs''')    \n",
    "  | _ -> (e1, xs')\n",
    "  \n",
    "and parse_base (xs : token list) : exp * token list = match xs with \n",
    "  | ID x :: xs' -> (Id x, xs')\n",
    "  | INT x :: xs' -> (Numb x , xs')\n",
    "  | LBRA :: xs' -> (let \n",
    "        (e, xs'') = parse_exp xs' in let\n",
    "         xs''' = parse_token RBRA xs''\n",
    "      in (e, xs'''))\n",
    "  | _ -> raise (SyntaxError \"Expected ID, INT or LBRA.\")"
   ]
  },
  {
   "cell_type": "code",
   "execution_count": 9,
   "id": "70eb90c7",
   "metadata": {
    "kernel": "OCaml 4.13"
   },
   "outputs": [
    {
     "data": {
      "text/plain": [
       "val parse_exp : token list -> exp * token list = <fun>\n",
       "val parse_term : token list -> exp * token list = <fun>\n",
       "val parse_factor : token list -> exp * token list = <fun>\n",
       "val parse_base : token list -> exp * token list = <fun>\n"
      ]
     },
     "execution_count": 9,
     "metadata": {},
     "output_type": "execute_result"
    }
   ],
   "source": [
    "(* SOLUTION *)\n",
    "\n",
    "let rec parse_exp (xs : token list) : exp * token list = let \n",
    "  (e1, xs') = parse_term xs in \n",
    "  match xs' with \n",
    "  | PLUS :: xs'' -> let \n",
    "      (e2, xs''') = parse_exp xs'' \n",
    "      in (Op (e1, Plus, e2), xs''')\n",
    "  | MINUS :: xs'' -> let \n",
    "      (e2, xs''') = parse_exp xs'' \n",
    "      in (Op (e1, Minus, e2), xs''')\n",
    "  | _ -> (e1, xs') \n",
    "           \n",
    "and parse_term (xs : token list) : exp * token list = let \n",
    "  (e1, xs') = parse_factor xs in \n",
    "  match xs' with \n",
    "  | STAR :: xs'' -> let \n",
    "    (e2, xs''') = parse_term xs''\n",
    "      in (Op (e1, Mult, e2), xs''') \n",
    "  | SLASH :: xs'' -> let \n",
    "    (e2, xs''') = parse_term xs''\n",
    "      in (Op (e1, Div, e2), xs''')    \n",
    "  | _ -> (e1, xs')\n",
    "  \n",
    "and parse_factor (xs : token list) : exp * token list = match xs with \n",
    "  | MINUS :: xs' -> let (e, xs'') = parse_base xs' in \n",
    "                    (Neg e, xs'')\n",
    "  | _ -> parse_base xs\n",
    "  \n",
    "and parse_base (xs : token list) : exp * token list = match xs with \n",
    "  | ID x :: xs' -> (Id x, xs')\n",
    "  | INT x :: xs' -> (Numb x , xs')\n",
    "  | LBRA :: xs' -> (let \n",
    "        (e, xs'') = parse_exp xs' in let\n",
    "         xs''' = parse_token RBRA xs''\n",
    "      in (e, xs'''))\n",
    "  | _ -> raise (SyntaxError \"Expected ID, INT or LBRA.\") "
   ]
  },
  {
   "cell_type": "markdown",
   "id": "f07bb94b",
   "metadata": {
    "kernel": "Python 3 (ipykernel)"
   },
   "source": [
    "3. Test the parser with one token list that should be accepted and one token list that should not be accepted."
   ]
  },
  {
   "cell_type": "code",
   "execution_count": null,
   "id": "0f48088f",
   "metadata": {
    "kernel": "OCaml 4.13"
   },
   "outputs": [],
   "source": []
  },
  {
   "cell_type": "markdown",
   "id": "8111a627",
   "metadata": {
    "kernel": "Python 3 (ipykernel)"
   },
   "source": [
    "4. Explain why [MINUS; INT 3] is a valid ``exp``-sentence using your implementation of a parser."
   ]
  },
  {
   "cell_type": "markdown",
   "id": "c150d314",
   "metadata": {
    "kernel": "OCaml 4.13"
   },
   "source": [
    "(* SOLUTION *)\n",
    "\n",
    "```\n",
    "parse_exp [MINUS; INT 3] \n",
    "1. parse_term [MINUS; INT 3], then match on the remaining list according to parse_exp in 2.\n",
    "1.1 parse_factor [MINUS; INT 3], then match on the remaining list according to parse_term in 1.2\n",
    "1.1.1 parse_base [INT 3], then return the negation of the yielded expression/remaining list of tokens. \n",
    "1.1.1.1 We get Numb 3 and the empty list. Go to 1.1.2.\n",
    "1.1.2 We return Neg (Numb 3) and the empty list. Go back to 1.2. \n",
    "1.2 As the remaining list of tokens is empty, we match with the last case and just return Neg (Numb 3) and the empty list. \n",
    "2. As the remaining list of tokens is empty, we match with the last case and just return Neg (Numb 3) and the empty list. \n",
    " \n",
    "```"
   ]
  },
  {
   "cell_type": "markdown",
   "id": "774cced6",
   "metadata": {
    "kernel": "Python 3 (ipykernel)"
   },
   "source": [
    "## 3. Conditional Expressions \n",
    "\n",
    "Extend the parser with conditional expressions by completing the following code. \n",
    "\n",
    "Test the parser with one token list that should be accepted and one token list that should not be accepted."
   ]
  },
  {
   "cell_type": "code",
   "execution_count": 12,
   "id": "4c66494c",
   "metadata": {
    "kernel": "OCaml 4.13"
   },
   "outputs": [
    {
     "data": {
      "text/plain": [
       "val parse_comp : token list -> cond * token list = <fun>\n"
      ]
     },
     "execution_count": 12,
     "metadata": {},
     "output_type": "execute_result"
    },
    {
     "data": {
      "text/plain": [
       "val parse_cond : token list -> condexp * token list = <fun>\n"
      ]
     },
     "execution_count": 12,
     "metadata": {},
     "output_type": "execute_result"
    }
   ],
   "source": [
    "let parse_comp (ts : token list) : cond * token list = \n",
    "    raise (SyntaxError \"TODO: IMPLEMENT\")\n",
    "    \n",
    "let parse_cond (ts : token list) : condexp * token list = \n",
    "   raise (SyntaxError \"TODO: IMPLEMENT\")"
   ]
  },
  {
   "cell_type": "code",
   "execution_count": null,
   "id": "549e3657",
   "metadata": {
    "kernel": "OCaml 4.13"
   },
   "outputs": [
    {
     "data": {
      "text/plain": [
       "val parse_comp : token list -> cond * token list = <fun>\n"
      ]
     },
     "execution_count": 13,
     "metadata": {},
     "output_type": "execute_result"
    },
    {
     "ename": "error",
     "evalue": "compile_error",
     "output_type": "error",
     "traceback": [
      "File \"[11]\", line 16, characters 21-23:\n16 |         (Cop (e1, c, e2), ts''')  \n                          ^^\nError: Unbound value e2\n"
     ]
    }
   ],
   "source": [
    "(* SOLUTION *)\n",
    "\n",
    "let parse_comp (ts : token list) : cond * token list = match ts with \n",
    "    | LT :: ts' -> (Lt, ts')\n",
    "    | LTE :: ts' -> (Lte, ts')\n",
    "    | EQ :: ts' -> (Eq, ts')\n",
    "    | NEQ :: ts' ->  (Neq, ts')\n",
    "    | GT :: ts' -> (Gt, ts')\n",
    "    | GTE :: ts' -> (Gte, ts')\n",
    "    | _ -> raise (SyntaxError \"Comparison token expected.\")\n",
    "    \n",
    "let parse_cond (ts : token list) : condexp * token list = let \n",
    "        (e1, ts') = parse_exp ts in let\n",
    "        (c, ts'') = parse_comp ts' in let f\n",
    "        (e2, ts''') = parse_exp ts'' in \n",
    "        (Cop (e1, c, e2), ts''')  "
   ]
  },
  {
   "cell_type": "markdown",
   "id": "0d62a90e",
   "metadata": {
    "kernel": "OCaml 4.13"
   },
   "source": [
    "## 4. Abstract Syntax to Concrete Syntax \n",
    "\n",
    "Change the grammar such that the remaining parts are LL(1)."
   ]
  },
  {
   "cell_type": "markdown",
   "id": "525c1202",
   "metadata": {
    "kernel": "OCaml 4.13"
   },
   "source": [
    "(* SOLUTION *)\n",
    "\n",
    "```\n",
    "program ::=  [declarations] commands \n",
    "declarations ::= declaration; [declarations] \n",
    "declaration ::= VAR identifier\n",
    "\n",
    "commands ::= command[; commands]\n",
    "command ::= identifier := exp | IF condexp THEN command [ELSE command] | WHILE condexp DO command | BEGIN program END | INPUT identifier | PRINT exp \n",
    " \n",
    "comp := = | != | <= | < | >= | >\n",
    "condexp := exp comp exp \n",
    "\n",
    "exp ::= term [{+|-} exp]\n",
    "term ::= factor [{*|/} term]\n",
    "factor ::= [-] base\n",
    "base ::= identifier | number | (exp)\n",
    "```"
   ]
  },
  {
   "cell_type": "markdown",
   "id": "3266cbad",
   "metadata": {
    "kernel": "OCaml 4.13"
   },
   "source": [
    "## 5. Full Parser \n",
    "\n",
    "Below you see a partial definition of the full parser for ``SIMP``. \n",
    "The parts which you have seen in the lecture have been filled in. \n",
    "\n",
    "a) Ensure you understand the return types of all functions.\n",
    "\n",
    "b) Why do parse_program/parse_while/parse_if/parse_command/parse_commands have to be declared mutually recursive? \n",
    "\n",
    "c) Explain why ``[VAR; SEMI]`` is not a valid ``declaration``- sentence given the implementation of the parser. \n",
    "\n",
    "d) Complete the definition of a parser. \n",
    "\n",
    "e) Test the parser with one token list that should be accepted and one token list that should not be accepted."
   ]
  },
  {
   "cell_type": "code",
   "execution_count": 14,
   "id": "83503d1f",
   "metadata": {
    "kernel": "OCaml 4.13"
   },
   "outputs": [
    {
     "data": {
      "text/plain": [
       "val parse_declaration : token list -> string * token list = <fun>\n"
      ]
     },
     "execution_count": 14,
     "metadata": {},
     "output_type": "execute_result"
    },
    {
     "data": {
      "text/plain": [
       "val parse_declarations : token list -> string list * token list = <fun>\n"
      ]
     },
     "execution_count": 14,
     "metadata": {},
     "output_type": "execute_result"
    },
    {
     "data": {
      "text/plain": [
       "val parse_assign : 'a -> 'b -> 'c = <fun>\n"
      ]
     },
     "execution_count": 14,
     "metadata": {},
     "output_type": "execute_result"
    },
    {
     "data": {
      "text/plain": [
       "val parse_input : 'a -> 'b = <fun>\n"
      ]
     },
     "execution_count": 14,
     "metadata": {},
     "output_type": "execute_result"
    },
    {
     "data": {
      "text/plain": [
       "val parse_print : 'a -> 'b = <fun>\n"
      ]
     },
     "execution_count": 14,
     "metadata": {},
     "output_type": "execute_result"
    },
    {
     "data": {
      "text/plain": [
       "val parse_program : token list -> program * token list = <fun>\n",
       "val parse_commands : token list -> cmd list * token list = <fun>\n",
       "val parse_command : token list -> cmd * token list = <fun>\n",
       "val parse_if : token list -> cmd * token list = <fun>\n",
       "val parse_while : token list -> cmd * token list = <fun>\n",
       "val parse_block : token list -> cmd * token list = <fun>\n"
      ]
     },
     "execution_count": 14,
     "metadata": {},
     "output_type": "execute_result"
    }
   ],
   "source": [
    "let parse_declaration (ts : token list) : string * token list = match ts with \n",
    "  | VAR :: ID x :: ts' -> (x, ts')\n",
    "  | _ ->  raise (SyntaxError \"Declaration expected.\")\n",
    "\n",
    "let rec parse_declarations (ts : token list) : string list * token list = let \n",
    "  (dcl, ts') = parse_declaration ts in let \n",
    "  ts'' = parse_token SEMI ts' in \n",
    "  match ts'' with \n",
    "  | VAR :: _ -> (let (dcls, ts''') = parse_declarations ts'' in \n",
    "                  (dcl :: dcls, ts''')\n",
    "                  )\n",
    "  | _ -> ([dcl], ts'')\n",
    "\n",
    "\n",
    "let parse_assign x ts = \n",
    "    raise (SyntaxError \"TODO: IMPLEMENT\")\n",
    "\n",
    "let parse_input ts =\n",
    "    raise (SyntaxError \"TODO: IMPLEMENT\")\n",
    "\n",
    "let parse_print ts = \n",
    "     raise (SyntaxError \"TODO: IMPLEMENT\")\n",
    "\n",
    "let rec parse_program (ts : token list) : program * token list = match ts with \n",
    "    | VAR :: _ -> let \n",
    "                  (dcls, ts') = parse_declarations ts in let \n",
    "                  (cs, ts'') = parse_commands ts' in \n",
    "                  (Program (dcls, cs), ts'')\n",
    "    | _ -> let \n",
    "          (cs, ts'') = parse_commands ts in \n",
    "          (Program ([], cs), ts'')\n",
    "\n",
    "and parse_commands (ts : token list) : cmd list * token list = let \n",
    "    (c, ts') = parse_command ts in \n",
    "    match ts' with \n",
    "    | SEMI :: ts'' -> let \n",
    "                      (cs, ts''') = parse_commands ts''\n",
    "                      in (c :: cs, ts''')\n",
    "    | _ -> ([c], ts')\n",
    "\n",
    "and parse_command (ts : token list) : cmd * token list = match ts with \n",
    "  | ID x :: ts' -> parse_assign x ts'\n",
    "  | INPUT :: ts' -> parse_input ts'\n",
    "  | PRINT :: ts' -> parse_print ts'\n",
    "  | IF :: ts' -> parse_if ts'\n",
    "  | WHILE :: ts' -> parse_while ts'\n",
    "  | BEGIN :: ts' -> parse_block ts'\n",
    "  | _ -> raise (SyntaxError \"Command expected.\")\n",
    "    \n",
    "and parse_if (ts : token list) : cmd * token list = let \n",
    "    (b, ts') = parse_cond ts in let \n",
    "    ts'' = parse_token THEN ts' in let\n",
    "    (c1, ts''') = parse_command ts'' in \n",
    "        match ts''' with \n",
    "        | ELSE :: ts'''' -> let (c2, ts''''') = parse_command ts'''' in \n",
    "                           (Ite (b, c1, c2), ts''''')\n",
    "        | _ -> (If (b, c1), ts''')\n",
    "\n",
    "and parse_while (ts : token list) : cmd * token list = \n",
    "   raise (SyntaxError \"TODO: IMPLEMENT\")\n",
    "\n",
    "and parse_block (ts : token list) : cmd * token list =\n",
    "  raise (SyntaxError \"TODO: IMPLEMENT\")"
   ]
  },
  {
   "cell_type": "code",
   "execution_count": 15,
   "id": "97c8a849",
   "metadata": {
    "kernel": "OCaml 4.13"
   },
   "outputs": [
    {
     "data": {
      "text/plain": [
       "val parse_declaration : token list -> string * token list = <fun>\n"
      ]
     },
     "execution_count": 15,
     "metadata": {},
     "output_type": "execute_result"
    },
    {
     "data": {
      "text/plain": [
       "val parse_declarations : token list -> string list * token list = <fun>\n"
      ]
     },
     "execution_count": 15,
     "metadata": {},
     "output_type": "execute_result"
    },
    {
     "data": {
      "text/plain": [
       "val parse_assign : string -> token list -> cmd * token list = <fun>\n"
      ]
     },
     "execution_count": 15,
     "metadata": {},
     "output_type": "execute_result"
    },
    {
     "data": {
      "text/plain": [
       "val parse_input : token list -> cmd * token list = <fun>\n"
      ]
     },
     "execution_count": 15,
     "metadata": {},
     "output_type": "execute_result"
    },
    {
     "data": {
      "text/plain": [
       "val parse_program : token list -> program * token list = <fun>\n",
       "val parse_commands : token list -> cmd list * token list = <fun>\n",
       "val parse_command : token list -> cmd * token list = <fun>\n",
       "val parse_if : token list -> cmd * token list = <fun>\n",
       "val parse_while : token list -> cmd * token list = <fun>\n",
       "val parse_block : token list -> cmd * token list = <fun>\n"
      ]
     },
     "execution_count": 15,
     "metadata": {},
     "output_type": "execute_result"
    }
   ],
   "source": [
    "(* SOLUTION *)\n",
    "\n",
    "let parse_declaration (ts : token list) : string * token list = match ts with \n",
    "  | VAR :: ID x :: ts' -> (x, ts')\n",
    "  | _ ->  raise (SyntaxError \"Declaration expected.\")\n",
    "\n",
    "let rec parse_declarations (ts : token list) : string list * token list = let \n",
    "  (dcl, ts') = parse_declaration ts in let \n",
    "  ts'' = parse_token SEMI ts' in \n",
    "  match ts'' with \n",
    "  | VAR :: _ -> (let (dcls, ts''') = parse_declarations ts'' in \n",
    "                  (dcl :: dcls, ts''')\n",
    "                  )\n",
    "  | _ -> ([dcl], ts'')\n",
    "\n",
    "   \n",
    "let parse_assign x ts = let \n",
    "    ts' = parse_token ASGN ts in let \n",
    "    (e, ts'') = parse_exp ts' in \n",
    "    ((Asgn (x, e)), ts'')\n",
    "\n",
    "let parse_input ts = match ts with \n",
    "    | ID x :: ts' -> (Input x, ts')\n",
    "    | _ -> raise (SyntaxError \"Identifier expected.\")\n",
    "\n",
    "(*let parse_print ts = let \n",
    "    (e, ts') = parse_exp ts in \n",
    "    (Print e, ts')*)\n",
    "\n",
    "\n",
    "let rec parse_program (ts : token list) : program * token list = match ts with \n",
    "    | VAR :: _ -> let \n",
    "                  (dcls, ts') = parse_declarations ts in let \n",
    "                  (cs, ts'') = parse_commands ts' in \n",
    "                  (Program (dcls, cs), ts'')\n",
    "    | _ -> let \n",
    "          (cs, ts'') = parse_commands ts in \n",
    "          (Program ([], cs), ts'')\n",
    "\n",
    "and parse_commands (ts : token list) : cmd list * token list = let \n",
    "    (c, ts') = parse_command ts in \n",
    "    match ts' with \n",
    "    | SEMI :: ts'' -> let \n",
    "                      (cs, ts''') = parse_commands ts''\n",
    "                      in (c :: cs, ts''')\n",
    "    | _ -> ([c], ts')\n",
    "\n",
    "and parse_command (ts : token list) : cmd * token list = match ts with \n",
    "  | ID x :: ts' -> parse_assign x ts'\n",
    "  | INPUT :: ts' -> parse_input ts'\n",
    "  | PRINT :: ts' -> parse_print ts'\n",
    "  | IF :: ts' -> parse_if ts'\n",
    "  | WHILE :: ts' -> parse_while ts'\n",
    "  | BEGIN :: ts' -> parse_block ts'\n",
    "  | _ -> raise (SyntaxError \"Command expected.\")\n",
    "    \n",
    "and parse_if (ts : token list) : cmd * token list = let \n",
    "    (b, ts') = parse_cond ts in let \n",
    "    ts'' = parse_token THEN ts' in let\n",
    "    (c1, ts''') = parse_command ts'' in \n",
    "        match ts''' with \n",
    "        | ELSE :: ts'''' -> let (c2, ts''''') = parse_command ts'''' in \n",
    "                           (Ite (b, c1, c2), ts''''')\n",
    "        | _ -> (If (b, c1), ts''')\n",
    "\n",
    "and parse_while (ts : token list) : cmd * token list = let \n",
    "    (b, ts') = parse_cond ts in let \n",
    "    ts'' = parse_token DO ts' in let \n",
    "    (c, ts''') = parse_command ts'' in \n",
    "    (While (b, c), ts''')\n",
    "\n",
    "and parse_block (ts : token list) : cmd * token list = let \n",
    "    (p, ts') = parse_program ts in let \n",
    "    ts'' = parse_token END ts' in \n",
    "    (Begin p, ts'')"
   ]
  },
  {
   "cell_type": "code",
   "execution_count": 20,
   "id": "8c58190c",
   "metadata": {
    "kernel": "OCaml 4.13"
   },
   "outputs": [
    {
     "data": {
      "text/plain": [
       "- : string list * token list =\n",
       "([\"A\"; \"B\"; \"C\"; \"D\"; \"Z\"],\n",
       " [ID \"A\"; ASGN; INT 128; SEMI; ID \"B\"; ASGN; INT 64; SEMI; ID \"C\"; ASGN;\n",
       "  INT 32; SEMI; ID \"D\"; ASGN; INT 16; SEMI; ID \"Z\"; ASGN; LBRA; ID \"A\"; PLUS;\n",
       "  ID \"B\"; RBRA; PLUS; LBRA; ID \"C\"; PLUS; ID \"D\"; RBRA])\n"
      ]
     },
     "execution_count": 20,
     "metadata": {},
     "output_type": "execute_result"
    }
   ],
   "source": [
    "parse_declarations [VAR; ID \"A\"; SEMI; VAR; ID \"B\"; SEMI;\n",
    "   VAR; ID \"C\"; SEMI; VAR; ID \"D\"; SEMI;\n",
    "   VAR; ID \"Z\"; SEMI; ID \"A\"; ASGN; INT 128;\n",
    "   SEMI; ID \"B\"; ASGN; INT 64; SEMI; ID \"C\";\n",
    "   ASGN; INT 32; SEMI; ID \"D\"; ASGN; INT 16;\n",
    "   SEMI; ID \"Z\"; ASGN; LBRA; ID \"A\"; PLUS;\n",
    "   ID \"B\"; RBRA; PLUS; LBRA; ID \"C\"; PLUS;\n",
    "   ID \"D\"; RBRA]"
   ]
  },
  {
   "cell_type": "markdown",
   "id": "0b0ddcb8",
   "metadata": {
    "kernel": "OCaml 4.13"
   },
   "source": [
    "## 6. Challenge \n",
    "\n",
    "Change the parser of expressions so that all binary operators are **left-associative**. "
   ]
  }
 ],
 "metadata": {
  "kernelspec": {
   "display_name": "SoS",
   "language": "sos",
   "name": "sos"
  },
  "language_info": {
   "codemirror_mode": "sos",
   "file_extension": ".sos",
   "mimetype": "text/x-sos",
   "name": "sos",
   "nbconvert_exporter": "sos_notebook.converter.SoS_Exporter",
   "pygments_lexer": "sos"
  },
  "sos": {
   "kernels": [
    [
     "OCaml 4.13",
     "ocaml-jupyter-4.13",
     "OCaml",
     "",
     "text/x-ocaml"
    ],
    [
     "Python 3 (ipykernel)",
     "python3",
     "python3",
     "",
     {
      "name": "ipython",
      "version": 3
     }
    ]
   ],
   "panel": {
    "displayed": true,
    "height": 0
   },
   "version": "0.24.0"
  }
 },
 "nbformat": 4,
 "nbformat_minor": 5
}
