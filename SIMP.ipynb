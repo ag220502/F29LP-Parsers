{
 "cells": [
  {
   "cell_type": "markdown",
   "id": "8b703731",
   "metadata": {},
   "source": [
    "## SIMP"
   ]
  },
  {
   "cell_type": "markdown",
   "id": "12fe8263",
   "metadata": {},
   "source": [
    "## Lexer \n",
    "\n"
   ]
  },
  {
   "cell_type": "code",
   "execution_count": 7,
   "id": "50bb9d93",
   "metadata": {},
   "outputs": [
    {
     "name": "stdout",
     "output_type": "stream",
     "text": [
      "62 states, 3074 transitions, table size 12668 bytes\n"
     ]
    },
    {
     "data": {
      "text/plain": [
       "- : Jupyter_notebook.Process.t =\n",
       "{Jupyter_notebook.Process.exit_status = Unix.WEXITED 0; stdout = None;\n",
       " stderr = None}\n"
      ]
     },
     "execution_count": 7,
     "metadata": {},
     "output_type": "execute_result"
    },
    {
     "data": {
      "text/plain": [
       "- : Jupyter_notebook.Process.t =\n",
       "{Jupyter_notebook.Process.exit_status = Unix.WEXITED 0; stdout = None;\n",
       " stderr = None}\n"
      ]
     },
     "execution_count": 7,
     "metadata": {},
     "output_type": "execute_result"
    },
    {
     "data": {
      "text/plain": [
       "val stream_to_list : Lexing.lexbuf -> Simp.token list = <fun>\n"
      ]
     },
     "execution_count": 7,
     "metadata": {},
     "output_type": "execute_result"
    }
   ],
   "source": [
    "#require \"jupyter.notebook\" ;;\n",
    "\n",
    "open Jupyter_notebook;;\n",
    "\n",
    "Process.sh \"ocamllex simp.mll\";;\n",
    "Process.sh \"ocamlc -c simp.ml\";;\n",
    "\n",
    "(* Ensure that you have the filled out file in your directory. *)\n",
    "#load \"simp.cmo\";;\n",
    "\n",
    "open Simp;;\n",
    "\n",
    "let rec stream_to_list buffer = \n",
    "    match Simp.token buffer with \n",
    "    | EOF -> []\n",
    "    | x -> x :: stream_to_list buffer"
   ]
  },
  {
   "cell_type": "markdown",
   "id": "30ec6177",
   "metadata": {},
   "source": [
    "## Parser"
   ]
  },
  {
   "cell_type": "code",
   "execution_count": 8,
   "id": "7e617c22",
   "metadata": {},
   "outputs": [
    {
     "data": {
      "text/plain": [
       "exception SyntaxError of string\n"
      ]
     },
     "execution_count": 8,
     "metadata": {},
     "output_type": "execute_result"
    },
    {
     "data": {
      "text/plain": [
       "type op = Plus | Minus | Mult | Div\n"
      ]
     },
     "execution_count": 8,
     "metadata": {},
     "output_type": "execute_result"
    },
    {
     "data": {
      "text/plain": [
       "type exp = Id of string | Numb of int | Op of exp * op * exp | Neg of exp\n"
      ]
     },
     "execution_count": 8,
     "metadata": {},
     "output_type": "execute_result"
    },
    {
     "data": {
      "text/plain": [
       "type cond = Eq | Neq | Lte | Lt | Gte | Gt\n"
      ]
     },
     "execution_count": 8,
     "metadata": {},
     "output_type": "execute_result"
    },
    {
     "data": {
      "text/plain": [
       "type condexp = Cop of exp * cond * exp\n"
      ]
     },
     "execution_count": 8,
     "metadata": {},
     "output_type": "execute_result"
    },
    {
     "data": {
      "text/plain": [
       "type cmd =\n",
       "    Asgn of string * exp\n",
       "  | Ite of condexp * cmd * cmd\n",
       "  | If of condexp * cmd\n",
       "  | While of condexp * cmd\n",
       "  | Begin of program\n",
       "  | Input of string\n",
       "  | Print of exp\n",
       "and program = Program of string list * cmd list\n"
      ]
     },
     "execution_count": 8,
     "metadata": {},
     "output_type": "execute_result"
    }
   ],
   "source": [
    "exception SyntaxError of string\n",
    "\n",
    "type op = Plus | Minus | Mult | Div \n",
    "\n",
    "type exp = Id of string | Numb of int | Op of exp * op * exp | Neg of exp\n",
    "\n",
    "type cond = Eq | Neq | Lte | Lt | Gte | Gt \n",
    "type condexp = Cop of exp * cond * exp\n",
    "                                          \n",
    "type cmd = Asgn of string * exp \n",
    "         | Ite of condexp * cmd * cmd | If of condexp * cmd \n",
    "         | While of condexp * cmd\n",
    "         | Begin of program \n",
    "         | Input of string\n",
    "         | Print of exp \n",
    "         \n",
    "and program = Program of string list * cmd list"
   ]
  },
  {
   "cell_type": "code",
   "execution_count": 18,
   "id": "60f707b3",
   "metadata": {},
   "outputs": [
    {
     "data": {
      "text/plain": [
       "val parse_token : Simp.token -> Simp.token list -> Simp.token list = <fun>\n"
      ]
     },
     "execution_count": 18,
     "metadata": {},
     "output_type": "execute_result"
    },
    {
     "ename": "error",
     "evalue": "compile_error",
     "output_type": "error",
     "traceback": [
      "File \"[18]\", line 19, characters 4-8:\n19 |   | Mult :: xs'' -> let \n         ^^^^\nError: This variant pattern is expected to have type Simp.token\n       There is no constructor Mult within type Simp.token\n"
     ]
    }
   ],
   "source": [
    "let parse_token (x : token) (xs : token list) = match xs with \n",
    "| y :: ys -> if (x == y) then ys else raise (SyntaxError \"Token expected.\")\n",
    "| _ -> raise (SyntaxError \"Token expected.\") \n",
    "\n",
    "let rec parse_exp (xs : token list) : exp * token list = let \n",
    "  (e1, xs') = parse_term xs in \n",
    "  match xs' with \n",
    "  | PLUS :: xs'' -> let \n",
    "      (e2, xs''') = parse_exp xs'' \n",
    "      in (Op (e1, Plus, e2), xs''')\n",
    "  | MINUS :: xs'' -> let \n",
    "      (e2, xs''') = parse_exp xs'' \n",
    "      in (Op (e1, Minus, e2), xs''')\n",
    "  | _ -> (e1, xs') \n",
    "           \n",
    "and parse_term (xs : token list) : exp * token list = let \n",
    "  (e1, xs') = parse_factor xs in \n",
    "  match xs' with \n",
    "  | Mult :: xs'' -> let \n",
    "    (e2, xs''') = parse_term xs''\n",
    "      in (Op (e1, Mult, e2), xs''') \n",
    "  | Div :: xs'' -> let \n",
    "    (e2, xs''') = parse_term xs''\n",
    "      in (Op (e1, Div, e2), xs''')    \n",
    "  | _ -> (e1, xs')\n",
    "  \n",
    "and parse_factor (xs : token list) : exp * token list = match xs with \n",
    "  | MINUS :: xs' -> let (e, xs'') = parse_base xs' in \n",
    "                    (Neg e, xs'')\n",
    "  | _ -> parse_base xs\n",
    "  \n",
    "and parse_base (xs : token list) : exp * token list = match xs with \n",
    "  | ID x :: xs' -> (Id x, xs')\n",
    "  | INT x :: xs' -> (Numb x , xs')\n",
    "  | LBRA :: xs' -> (let \n",
    "        (e, xs'') = parse_exp xs' in let\n",
    "         xs''' = parse_token RBRA xs''\n",
    "      in (e, xs'''))\n",
    "  | _ -> raise (SyntaxError \"Expected ID, INT or LBRA.\") \n",
    "  \n",
    "let parse_comp (ts : token list) : cond * token list = match ts with \n",
    "    | LT :: ts' -> (Lt, ts')\n",
    "    | LTE :: ts' -> (Lte, ts')\n",
    "    | EQ :: ts' -> (Eq, ts')\n",
    "    | NEQ :: ts' ->  (Neq, ts')\n",
    "    | GT :: ts' -> (Gt, ts')\n",
    "    | GTE :: ts' -> (Gte, ts')\n",
    "    | _ -> raise (SyntaxError \"Comparison token expected.\")\n",
    "    \n",
    "let parse_cond (ts : token list) : condexp * token list = let \n",
    "        (e1, ts') = parse_exp ts in let\n",
    "        (c, ts'') = parse_comp ts' in let \n",
    "        (e2, ts''') = parse_exp ts'' in \n",
    "        (Cop (e1, c, e2), ts''')  \n",
    "\n",
    "let parse_declaration (ts : token list) : string * token list = match ts with \n",
    "  | VAR :: ID x :: ts' -> (x, ts')\n",
    "  | _ ->  raise (SyntaxError \"Declaration expected.\")\n",
    "\n",
    "let rec parse_declarations (ts : token list) : string list * token list = let \n",
    "  (dcl, ts') = parse_declaration ts in let \n",
    "  ts'' = parse_token SEMI ts' in \n",
    "  match ts'' with \n",
    "  | VAR :: _ -> (let (dcls, ts''') = parse_declarations ts'' in \n",
    "                  (dcl :: dcls, ts''')\n",
    "                  )\n",
    "  | _ -> ([dcl], ts'')\n",
    "\n",
    "\n",
    "let parse_assign x ts = let \n",
    "    ts' = parse_token ASGN ts in let \n",
    "    (e, ts'') = parse_exp ts' in \n",
    "    ((Asgn (x, e)), ts'')\n",
    "\n",
    "let parse_input ts = match ts with \n",
    "    | ID x :: ts' -> (Input x, ts')\n",
    "    | _ -> raise (SyntaxError \"Identifier expected.\")\n",
    "\n",
    "let parse_print ts = let \n",
    "    (e, ts') = parse_exp ts in \n",
    "    (Print e, ts')\n",
    "\n",
    "\n",
    "let rec parse_program (ts : token list) : program * token list = match ts with \n",
    "    | VAR :: _ -> let \n",
    "                  (dcls, ts') = parse_declarations ts in let \n",
    "                  (cs, ts'') = parse_commands ts' in \n",
    "                  (Program (dcls, cs), ts'')\n",
    "    | _ -> let \n",
    "          (cs, ts'') = parse_commands ts in \n",
    "          (Program ([], cs), ts'')\n",
    "\n",
    "and parse_commands (ts : token list) : cmd list * token list = let \n",
    "    (c, ts') = parse_command ts in \n",
    "    match ts' with \n",
    "    | SEMI :: ts'' -> let \n",
    "                      (cs, ts''') = parse_commands ts''\n",
    "                      in (c :: cs, ts''')\n",
    "    | _ -> ([c], ts')\n",
    "\n",
    "and parse_command (ts : token list) : cmd * token list = match ts with \n",
    "  | ID x :: ts' -> parse_assign x ts'\n",
    "  | INPUT :: ts' -> parse_input ts'\n",
    "  | PRINT :: ts' -> parse_print ts'\n",
    "  | IF :: ts' -> parse_if ts'\n",
    "  | WHILE :: ts' -> parse_while ts'\n",
    "  | BEGIN :: ts' -> parse_block ts'\n",
    "  | _ -> raise (SyntaxError \"Command expected.\")\n",
    "    \n",
    "and parse_if (ts : token list) : cmd * token list = let \n",
    "    (b, ts') = parse_cond ts in let \n",
    "    ts'' = parse_token THEN ts' in let\n",
    "    (c1, ts''') = parse_command ts'' in \n",
    "        match ts''' with \n",
    "        | ELSE :: ts'''' -> let (c2, ts''''') = parse_command ts'''' in \n",
    "                           (Ite (b, c1, c2), ts''''')\n",
    "        | _ -> (If (b, c1), ts''')\n",
    "\n",
    "and parse_while (ts : token list) : cmd * token list = let \n",
    "    (b, ts') = parse_cond ts in let \n",
    "    ts'' = parse_token DO ts' in let \n",
    "    (c, ts''') = parse_command ts'' in \n",
    "    (While (b, c), ts''')\n",
    "\n",
    "and parse_block (ts : token list) : cmd * token list = let \n",
    "    (p, ts') = parse_program ts in let \n",
    "    ts'' = parse_token END ts' in \n",
    "    (Begin p, ts'')        "
   ]
  },
  {
   "cell_type": "markdown",
   "id": "19c41bf0",
   "metadata": {},
   "source": [
    "## Interpreter \n",
    "\n"
   ]
  },
  {
   "cell_type": "code",
   "execution_count": 4,
   "id": "05205108",
   "metadata": {},
   "outputs": [
    {
     "data": {
      "text/plain": [
       "module Env :\n",
       "  sig\n",
       "    type key = String.t\n",
       "    type 'a t = 'a Map.Make(String).t\n",
       "    val empty : 'a t\n",
       "    val is_empty : 'a t -> bool\n",
       "    val mem : key -> 'a t -> bool\n",
       "    val add : key -> 'a -> 'a t -> 'a t\n",
       "    val update : key -> ('a option -> 'a option) -> 'a t -> 'a t\n",
       "    val singleton : key -> 'a -> 'a t\n",
       "    val remove : key -> 'a t -> 'a t\n",
       "    val merge :\n",
       "      (key -> 'a option -> 'b option -> 'c option) -> 'a t -> 'b t -> 'c t\n",
       "    val union : (key -> 'a -> 'a -> 'a option) -> 'a t -> 'a t -> 'a t\n",
       "    val compare : ('a -> 'a -> int) -> 'a t -> 'a t -> int\n",
       "    val equal : ('a -> 'a -> bool) -> 'a t -> 'a t -> bool\n",
       "    val iter : (key -> 'a -> unit) -> 'a t -> unit\n",
       "    val fold : (key -> 'a -> 'b -> 'b) -> 'a t -> 'b -> 'b\n",
       "    val for_all : (key -> 'a -> bool) -> 'a t -> bool\n",
       "    val exists : (key -> 'a -> bool) -> 'a t -> bool\n",
       "    val filter : (key -> 'a -> bool) -> 'a t -> 'a t\n",
       "    val filter_map : (key -> 'a -> 'b option) -> 'a t -> 'b t\n",
       "    val partition : (key -> 'a -> bool) -> 'a t -> 'a t * 'a t\n",
       "    val cardinal : 'a t -> int\n",
       "    val bindings : 'a t -> (key * 'a) list\n",
       "    val min_binding : 'a t -> key * 'a\n",
       "    val min_binding_opt : 'a t -> (key * 'a) option\n",
       "    val max_binding : 'a t -> key * 'a\n",
       "    val max_binding_opt : 'a t -> (key * 'a) option\n",
       "    val choose : 'a t -> key * 'a\n",
       "    val choose_opt : 'a t -> (key * 'a) option\n",
       "    val split : key -> 'a t -> 'a t * 'a option * 'a t\n",
       "    val find : key -> 'a t -> 'a\n",
       "    val find_opt : key -> 'a t -> 'a option\n",
       "    val find_first : (key -> bool) -> 'a t -> key * 'a\n",
       "    val find_first_opt : (key -> bool) -> 'a t -> (key * 'a) option\n",
       "    val find_last : (key -> bool) -> 'a t -> key * 'a\n",
       "    val find_last_opt : (key -> bool) -> 'a t -> (key * 'a) option\n",
       "    val map : ('a -> 'b) -> 'a t -> 'b t\n",
       "    val mapi : (key -> 'a -> 'b) -> 'a t -> 'b t\n",
       "    val to_seq : 'a t -> (key * 'a) Seq.t\n",
       "    val to_rev_seq : 'a t -> (key * 'a) Seq.t\n",
       "    val to_seq_from : key -> 'a t -> (key * 'a) Seq.t\n",
       "    val add_seq : (key * 'a) Seq.t -> 'a t -> 'a t\n",
       "    val of_seq : (key * 'a) Seq.t -> 'a t\n",
       "  end\n"
      ]
     },
     "execution_count": 4,
     "metadata": {},
     "output_type": "execute_result"
    },
    {
     "data": {
      "text/plain": [
       "val example_env : int Env.t = <abstr>\n"
      ]
     },
     "execution_count": 4,
     "metadata": {},
     "output_type": "execute_result"
    },
    {
     "data": {
      "text/plain": [
       "- : int = 3\n"
      ]
     },
     "execution_count": 4,
     "metadata": {},
     "output_type": "execute_result"
    }
   ],
   "source": [
    "(* This will define maps with strings as key *)\n",
    "module Env = Map.Make(String)\n",
    "\n",
    "(* Env.empty denotes the empty environment. \n",
    "We can add elements to an environment via Env.add.\n",
    "This is the environment which only binds “a” to 3. *)\n",
    "let example_env = Env.add \"a\" 3 Env.empty;;\n",
    "\n",
    "(* We can look up elements in an environment via Env.find.\n",
    "Env.find throws an exception if the key does not exist.*)\n",
    "Env.find \"a\" example_env;;"
   ]
  },
  {
   "cell_type": "code",
   "execution_count": 5,
   "id": "34582af4",
   "metadata": {},
   "outputs": [
    {
     "data": {
      "text/plain": [
       "exception RuntimeError of string\n"
      ]
     },
     "execution_count": 5,
     "metadata": {},
     "output_type": "execute_result"
    },
    {
     "data": {
      "text/plain": [
       "val eval : exp -> int Env.t -> int = <fun>\n"
      ]
     },
     "execution_count": 5,
     "metadata": {},
     "output_type": "execute_result"
    },
    {
     "data": {
      "text/plain": [
       "val eval_condexp : condexp -> int Env.t -> int = <fun>\n"
      ]
     },
     "execution_count": 5,
     "metadata": {},
     "output_type": "execute_result"
    },
    {
     "data": {
      "text/plain": [
       "val eval_cmd : cmd -> int Env.t -> int Env.t = <fun>\n",
       "val eval_program : program -> int Env.t -> int Env.t = <fun>\n",
       "val eval_commands : cmd list -> int Env.t -> int Env.t = <fun>\n"
      ]
     },
     "execution_count": 5,
     "metadata": {},
     "output_type": "execute_result"
    }
   ],
   "source": [
    "exception RuntimeError of string\n",
    "\n",
    "let rec eval (e : exp) env : int = match e with \n",
    "    | Id x -> Env.find x env \n",
    "    | Numb n -> n \n",
    "    | Neg e -> - (eval e env)\n",
    "    | Op (e1, Plus, e2) -> eval e1 env + eval e2 env\n",
    "    | Op (e1, Minus, e2) -> eval e1 env - eval e2 env\n",
    "    | Op (e1, Mult, e2) -> eval e1 env * eval e2 env\n",
    "    | Op (e1, Div, e2) ->  (match (eval e2 env) with \n",
    "                          | 0 -> raise (RuntimeError \"Divison by 0\")\n",
    "                          | _ -> eval e1 env / eval e2 env)\n",
    "                          \n",
    "let eval_condexp (e : condexp) env : int = match e with                          \n",
    "    | Cop (e1, Eq, e2) -> if (eval e1 env = eval e2 env) then 1 else 0\n",
    "    | Cop (e1, Neq, e2) -> if (eval e1 env = eval e2 env) then 0 else 1\n",
    "    | Cop (e1, Lte, e2) -> if (eval e1 env <= eval e2 env) then 1 else 0\n",
    "    | Cop (e1, Lt, e2) -> if (eval e1 env < eval e2 env) then 1 else 0\n",
    "    | Cop (e1, Gte, e2) -> if (eval e1 env >= eval e2 env) then 1 else 0\n",
    "    | Cop (e1, Gt, e2) -> if (eval e1 env > eval e2 env) then 1 else 0\n",
    "\n",
    "let rec eval_cmd (c : cmd) env  = match c with \n",
    "    | Asgn (x, e) -> Env.add x (eval e env) env\n",
    "    | If (e, c) -> (match (eval_condexp e env) with \n",
    "                        | 1 -> eval_cmd c env \n",
    "                        | 0 -> env\n",
    "                        | _ -> raise (RuntimeError \"Error in condition of If\")\n",
    "                        )\n",
    "    | Ite (e, c1, c2) -> (match (eval_condexp e env) with \n",
    "                        | 1 -> eval_cmd c1 env \n",
    "                        | 0 -> eval_cmd c2 env\n",
    "                        | _ -> raise (RuntimeError \"Error in condition of If\"))\n",
    "    | While (e, c) -> (match (eval_condexp e env) with \n",
    "                        | 1 -> eval_cmd (While (e, c)) (eval_cmd c env)\n",
    "                        | _ -> env)\n",
    "    | Begin p -> let _ = eval_program p env in env\n",
    "    | Print e -> let _ = print_endline (\"OUTPUT:\" ^ string_of_int (eval e env)) in env\n",
    "    | Input x -> let _ = print_endline (\"Input is not supported by Jupyter Notebooks, assuming input 0.\") in \n",
    "                         Env.add x 0 env\n",
    "    \n",
    "and eval_program p env = match p with \n",
    "    | Program (xs, cmds) -> eval_commands cmds env\n",
    "\n",
    "and eval_commands (cs : cmd list) env = match cs with \n",
    "    | [] -> env\n",
    "    | c :: cs -> eval_commands cs (eval_cmd c env)"
   ]
  },
  {
   "cell_type": "markdown",
   "id": "3cb55991",
   "metadata": {},
   "source": [
    "## Example Program "
   ]
  },
  {
   "cell_type": "code",
   "execution_count": 6,
   "id": "9a3eb620",
   "metadata": {},
   "outputs": [
    {
     "data": {
      "text/plain": [
       "val eval_from_string : string -> int Env.t = <fun>\n"
      ]
     },
     "execution_count": 6,
     "metadata": {},
     "output_type": "execute_result"
    },
    {
     "data": {
      "text/plain": [
       "val p : string =\n",
       "  \"VAR s;\\nVAR n;\\ns := 3; \\nn := 5;\\nPRINT n;\\nWHILE n > 0 DO \\n    n := n - 1;\\nPRINT (n + s)\\n\"\n"
      ]
     },
     "execution_count": 6,
     "metadata": {},
     "output_type": "execute_result"
    },
    {
     "name": "stdout",
     "output_type": "stream",
     "text": [
      "OUTPUT:5\n",
      "OUTPUT:3\n"
     ]
    },
    {
     "data": {
      "text/plain": [
       "- : int Env.t = <abstr>\n"
      ]
     },
     "execution_count": 6,
     "metadata": {},
     "output_type": "execute_result"
    }
   ],
   "source": [
    "let eval_from_string s = let \n",
    "        lexed = stream_to_list (Lexing.from_string s) in let \n",
    "        parsed = parse_program lexed in\n",
    "        match parsed with \n",
    "        | (parsed', []) -> eval_program parsed' Env.empty\n",
    "        | _ -> raise (SyntaxError \"Not empty token list.\") \n",
    "\n",
    "\n",
    "let p = \"VAR s;\n",
    "VAR n;\n",
    "s := 3; \n",
    "n := 5;\n",
    "PRINT n;\n",
    "WHILE n > 0 DO \n",
    "    n := n - 1;\n",
    "PRINT (n + s)\n",
    "\";;\n",
    "\n",
    "eval_from_string p"
   ]
  },
  {
   "cell_type": "markdown",
   "id": "c411b333",
   "metadata": {},
   "source": [
    "## Challenge \n",
    "\n",
    "Find a program (without input :-)) that doesn't behave as you'd expect as its imperative counterpart...\n",
    "\n",
    "... we know of at least one!"
   ]
  }
 ],
 "metadata": {
  "kernelspec": {
   "display_name": "OCaml 4.13",
   "language": "OCaml",
   "name": "ocaml-jupyter-4.13"
  },
  "language_info": {
   "codemirror_mode": "text/x-ocaml",
   "file_extension": ".ml",
   "mimetype": "text/x-ocaml",
   "name": "OCaml",
   "nbconverter_exporter": null,
   "pygments_lexer": "OCaml",
   "version": "4.13.1"
  }
 },
 "nbformat": 4,
 "nbformat_minor": 5
}
