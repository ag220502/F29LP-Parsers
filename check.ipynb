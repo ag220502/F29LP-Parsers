{
 "cells": [
  {
   "cell_type": "markdown",
   "id": "187e4521",
   "metadata": {},
   "source": [
    "# Code Generation"
   ]
  },
  {
   "cell_type": "markdown",
   "id": "46918d5b",
   "metadata": {},
   "source": [
    "The following code allows us to use the previously defined lexer/parser:"
   ]
  },
  {
   "cell_type": "code",
   "execution_count": 7,
   "id": "c3b902e7",
   "metadata": {},
   "outputs": [
    {
     "name": "stdout",
     "output_type": "stream",
     "text": [
      "62 states, 3074 transitions, table size 12668 bytes\n"
     ]
    },
    {
     "data": {
      "text/plain": [
       "- : Jupyter_notebook.Process.t =\n",
       "{Jupyter_notebook.Process.exit_status = Unix.WEXITED 0; stdout = None;\n",
       " stderr = None}\n"
      ]
     },
     "execution_count": 7,
     "metadata": {},
     "output_type": "execute_result"
    },
    {
     "data": {
      "text/plain": [
       "- : Jupyter_notebook.Process.t =\n",
       "{Jupyter_notebook.Process.exit_status = Unix.WEXITED 0; stdout = None;\n",
       " stderr = None}\n"
      ]
     },
     "execution_count": 7,
     "metadata": {},
     "output_type": "execute_result"
    },
    {
     "name": "stdout",
     "output_type": "stream",
     "text": [
      "val stream_to_list : Lexing.lexbuf -> Simp.token list = <fun>\n",
      "exception SyntaxError of string\n",
      "type op = Plus | Minus | Mult | Div\n",
      "type exp = Id of string | Numb of int | Op of exp * op * exp | Neg of exp\n",
      "type cond = Eq | Neq | Lte | Lt | Gte | Gt\n",
      "type condexp = Cop of exp * cond * exp\n",
      "type cmd =\n",
      "    Asgn of string * exp\n",
      "  | Ite of condexp * cmd * cmd\n",
      "  | If of condexp * cmd\n",
      "  | While of condexp * cmd\n",
      "  | Begin of program\n",
      "  | Input of string\n",
      "  | Print of exp\n",
      "and program = Program of string list * cmd list\n",
      "val parse_token : Simp.token -> Simp.token list -> Simp.token list = <fun>\n",
      "val parse_exp : Simp.token list -> exp * Simp.token list = <fun>\n",
      "val parse_term : Simp.token list -> exp * Simp.token list = <fun>\n",
      "val parse_factor : Simp.token list -> exp * Simp.token list = <fun>\n",
      "val parse_base : Simp.token list -> exp * Simp.token list = <fun>\n",
      "val parse_comp : Simp.token list -> cond * Simp.token list = <fun>\n",
      "val parse_cond : Simp.token list -> condexp * Simp.token list = <fun>\n",
      "val parse_declaration : Simp.token list -> string * Simp.token list = <fun>\n",
      "val parse_declarations : Simp.token list -> string list * Simp.token list =\n",
      "  <fun>\n",
      "val parse_assign : string -> Simp.token list -> cmd * Simp.token list = <fun>\n",
      "val parse_input : Simp.token list -> cmd * Simp.token list = <fun>\n",
      "val parse_print : Simp.token list -> cmd * Simp.token list = <fun>\n",
      "val parse_program : Simp.token list -> program * Simp.token list = <fun>\n",
      "val parse_commands : Simp.token list -> cmd list * Simp.token list = <fun>\n",
      "val parse_command : Simp.token list -> cmd * Simp.token list = <fun>\n",
      "val parse_if : Simp.token list -> cmd * Simp.token list = <fun>\n",
      "val parse_while : Simp.token list -> cmd * Simp.token list = <fun>\n",
      "val parse_block : Simp.token list -> cmd * Simp.token list = <fun>\n",
      "module Env :\n",
      "  sig\n",
      "    type key = String.t\n",
      "    type 'a t = 'a Map.Make(String).t\n",
      "    val empty : 'a t\n",
      "    val is_empty : 'a t -> bool\n",
      "    val mem : key -> 'a t -> bool\n",
      "    val add : key -> 'a -> 'a t -> 'a t\n",
      "    val update : key -> ('a option -> 'a option) -> 'a t -> 'a t\n",
      "    val singleton : key -> 'a -> 'a t\n",
      "    val remove : key -> 'a t -> 'a t\n",
      "    val merge :\n",
      "      (key -> 'a option -> 'b option -> 'c option) -> 'a t -> 'b t -> 'c t\n",
      "    val union : (key -> 'a -> 'a -> 'a option) -> 'a t -> 'a t -> 'a t\n",
      "    val compare : ('a -> 'a -> int) -> 'a t -> 'a t -> int\n",
      "    val equal : ('a -> 'a -> bool) -> 'a t -> 'a t -> bool\n",
      "    val iter : (key -> 'a -> unit) -> 'a t -> unit\n",
      "    val fold : (key -> 'a -> 'b -> 'b) -> 'a t -> 'b -> 'b\n",
      "    val for_all : (key -> 'a -> bool) -> 'a t -> bool\n",
      "    val exists : (key -> 'a -> bool) -> 'a t -> bool\n",
      "    val filter : (key -> 'a -> bool) -> 'a t -> 'a t\n",
      "    val filter_map : (key -> 'a -> 'b option) -> 'a t -> 'b t\n",
      "    val partition : (key -> 'a -> bool) -> 'a t -> 'a t * 'a t\n",
      "    val cardinal : 'a t -> int\n",
      "    val bindings : 'a t -> (key * 'a) list\n",
      "    val min_binding : 'a t -> key * 'a\n",
      "    val min_binding_opt : 'a t -> (key * 'a) option\n",
      "    val max_binding : 'a t -> key * 'a\n",
      "    val max_binding_opt : 'a t -> (key * 'a) option\n",
      "    val choose : 'a t -> key * 'a\n",
      "    val choose_opt : 'a t -> (key * 'a) option\n",
      "    val split : key -> 'a t -> 'a t * 'a option * 'a t\n",
      "    val find : key -> 'a t -> 'a\n",
      "    val find_opt : key -> 'a t -> 'a option\n",
      "    val find_first : (key -> bool) -> 'a t -> key * 'a\n",
      "    val find_first_opt : (key -> bool) -> 'a t -> (key * 'a) option\n",
      "    val find_last : (key -> bool) -> 'a t -> key * 'a\n",
      "    val find_last_opt : (key -> bool) -> 'a t -> (key * 'a) option\n",
      "    val map : ('a -> 'b) -> 'a t -> 'b t\n",
      "    val mapi : (key -> 'a -> 'b) -> 'a t -> 'b t\n",
      "    val to_seq : 'a t -> (key * 'a) Seq.t\n",
      "    val to_rev_seq : 'a t -> (key * 'a) Seq.t\n",
      "    val to_seq_from : key -> 'a t -> (key * 'a) Seq.t\n",
      "    val add_seq : (key * 'a) Seq.t -> 'a t -> 'a t\n",
      "    val of_seq : (key * 'a) Seq.t -> 'a t\n",
      "  end\n",
      "val example_env : int Env.t = <abstr>\n",
      "- : int = 3\n",
      "val parse_string : string -> program = <fun>\n",
      "exception RuntimeError of string\n",
      "val eval : exp -> int Env.t -> int = <fun>\n",
      "val eval_condexp : condexp -> int Env.t -> int = <fun>\n",
      "val eval_cmd : cmd -> int Env.t -> int Env.t = <fun>\n",
      "val eval_program : program -> int Env.t -> int Env.t = <fun>\n",
      "val eval_commands : cmd list -> int Env.t -> int Env.t = <fun>\n"
     ]
    }
   ],
   "source": [
    "#require \"jupyter.notebook\" ;;\n",
    "\n",
    "open Jupyter_notebook;;\n",
    "\n",
    "Process.sh \"ocamllex simp.mll\";;\n",
    "Process.sh \"ocamlc -c simp.ml\";;\n",
    "\n",
    "#use \"psimp.ml\""
   ]
  },
  {
   "cell_type": "markdown",
   "id": "3bfa96d1",
   "metadata": {},
   "source": [
    "## Representing MIPS Code in OCaml"
   ]
  },
  {
   "cell_type": "markdown",
   "id": "265c44df",
   "metadata": {},
   "source": [
    "We define registers as type synomym to ``int``, and define several aliases for the mnemonics: "
   ]
  },
  {
   "cell_type": "code",
   "execution_count": 8,
   "id": "f3795302",
   "metadata": {},
   "outputs": [
    {
     "data": {
      "text/plain": [
       "type register = int\n"
      ]
     },
     "execution_count": 8,
     "metadata": {},
     "output_type": "execute_result"
    },
    {
     "data": {
      "text/plain": [
       "val v0 : register = 2\n"
      ]
     },
     "execution_count": 8,
     "metadata": {},
     "output_type": "execute_result"
    },
    {
     "data": {
      "text/plain": [
       "val v1 : register = 3\n"
      ]
     },
     "execution_count": 8,
     "metadata": {},
     "output_type": "execute_result"
    },
    {
     "data": {
      "text/plain": [
       "val a0 : register = 4\n"
      ]
     },
     "execution_count": 8,
     "metadata": {},
     "output_type": "execute_result"
    },
    {
     "data": {
      "text/plain": [
       "val a1 : register = 5\n"
      ]
     },
     "execution_count": 8,
     "metadata": {},
     "output_type": "execute_result"
    },
    {
     "data": {
      "text/plain": [
       "val a2 : register = 6\n"
      ]
     },
     "execution_count": 8,
     "metadata": {},
     "output_type": "execute_result"
    },
    {
     "data": {
      "text/plain": [
       "val a3 : register = 7\n"
      ]
     },
     "execution_count": 8,
     "metadata": {},
     "output_type": "execute_result"
    },
    {
     "data": {
      "text/plain": [
       "val t0 : register = 8\n"
      ]
     },
     "execution_count": 8,
     "metadata": {},
     "output_type": "execute_result"
    },
    {
     "data": {
      "text/plain": [
       "val t1 : register = 9\n"
      ]
     },
     "execution_count": 8,
     "metadata": {},
     "output_type": "execute_result"
    },
    {
     "data": {
      "text/plain": [
       "val t2 : register = 10\n"
      ]
     },
     "execution_count": 8,
     "metadata": {},
     "output_type": "execute_result"
    },
    {
     "data": {
      "text/plain": [
       "val t3 : register = 11\n"
      ]
     },
     "execution_count": 8,
     "metadata": {},
     "output_type": "execute_result"
    },
    {
     "data": {
      "text/plain": [
       "val t4 : register = 12\n"
      ]
     },
     "execution_count": 8,
     "metadata": {},
     "output_type": "execute_result"
    },
    {
     "data": {
      "text/plain": [
       "val t5 : register = 13\n"
      ]
     },
     "execution_count": 8,
     "metadata": {},
     "output_type": "execute_result"
    },
    {
     "data": {
      "text/plain": [
       "val t6 : register = 14\n"
      ]
     },
     "execution_count": 8,
     "metadata": {},
     "output_type": "execute_result"
    },
    {
     "data": {
      "text/plain": [
       "val t7 : register = 15\n"
      ]
     },
     "execution_count": 8,
     "metadata": {},
     "output_type": "execute_result"
    },
    {
     "data": {
      "text/plain": [
       "val s0 : register = 16\n"
      ]
     },
     "execution_count": 8,
     "metadata": {},
     "output_type": "execute_result"
    },
    {
     "data": {
      "text/plain": [
       "val s1 : register = 17\n"
      ]
     },
     "execution_count": 8,
     "metadata": {},
     "output_type": "execute_result"
    },
    {
     "data": {
      "text/plain": [
       "val s2 : register = 18\n"
      ]
     },
     "execution_count": 8,
     "metadata": {},
     "output_type": "execute_result"
    },
    {
     "data": {
      "text/plain": [
       "val s3 : register = 19\n"
      ]
     },
     "execution_count": 8,
     "metadata": {},
     "output_type": "execute_result"
    },
    {
     "data": {
      "text/plain": [
       "val s4 : register = 20\n"
      ]
     },
     "execution_count": 8,
     "metadata": {},
     "output_type": "execute_result"
    },
    {
     "data": {
      "text/plain": [
       "val s5 : register = 21\n"
      ]
     },
     "execution_count": 8,
     "metadata": {},
     "output_type": "execute_result"
    },
    {
     "data": {
      "text/plain": [
       "val s6 : register = 22\n"
      ]
     },
     "execution_count": 8,
     "metadata": {},
     "output_type": "execute_result"
    },
    {
     "data": {
      "text/plain": [
       "val s7 : register = 23\n"
      ]
     },
     "execution_count": 8,
     "metadata": {},
     "output_type": "execute_result"
    },
    {
     "data": {
      "text/plain": [
       "val t8 : register = 24\n"
      ]
     },
     "execution_count": 8,
     "metadata": {},
     "output_type": "execute_result"
    },
    {
     "data": {
      "text/plain": [
       "val t9 : register = 25\n"
      ]
     },
     "execution_count": 8,
     "metadata": {},
     "output_type": "execute_result"
    },
    {
     "data": {
      "text/plain": [
       "val sp : register = 29\n"
      ]
     },
     "execution_count": 8,
     "metadata": {},
     "output_type": "execute_result"
    },
    {
     "data": {
      "text/plain": [
       "val fp : register = 30\n"
      ]
     },
     "execution_count": 8,
     "metadata": {},
     "output_type": "execute_result"
    },
    {
     "data": {
      "text/plain": [
       "val ra : register = 31\n"
      ]
     },
     "execution_count": 8,
     "metadata": {},
     "output_type": "execute_result"
    }
   ],
   "source": [
    "(* We represent registers as numbers. Registers are represented by 0 to 31. *)\n",
    "type register = int\n",
    "\n",
    "(* Value returned by a subroutine *)\n",
    "let v0 : register = 2 \n",
    "let v1 : register = 3 \n",
    "\n",
    "(* Arguments to subroutine *)\n",
    "let a0 : register = 4 \n",
    "let a1 : register = 5\n",
    "let a2 : register = 6\n",
    "let a3 : register = 7\n",
    "\n",
    "(* Temporary registers *)\n",
    "let t0 : register = 8\n",
    "let t1 : register = 9\n",
    "let t2 : register = 10\n",
    "let t3 : register = 11\n",
    "let t4 : register = 12\n",
    "let t5 : register = 13\n",
    "let t6 : register = 14\n",
    "let t7 : register = 15\n",
    "\n",
    "(* Saved registers *)\n",
    "let s0 : register = 16\n",
    "let s1 : register = 17 \n",
    "let s2 : register = 18 \n",
    "let s3 : register = 19 \n",
    "let s4 : register = 20 \n",
    "let s5 : register = 21\n",
    "let s6 : register = 22 \n",
    "let s7 : register = 23 \n",
    "\n",
    "(* Temporary registers $t8 and $t9 will be used for interemdiate results. *)\n",
    "let t8 : register = 24 (* $t8 *)\n",
    "let t9 : register = 25 (* $t9 *)\n",
    "\n",
    "let (sp : register) = 29 (* stack pointer *)\n",
    "let (fp : register) = 30 (* frame pointer *)\n",
    "let (ra : register) = 31 (* return address *)"
   ]
  },
  {
   "cell_type": "markdown",
   "id": "79771ee7",
   "metadata": {},
   "source": [
    "Instructions are represented as an abstract data type.\n",
    "\n",
    "See https://www.dsi.unive.it/~gasparetto/materials/MIPS_Instruction_Set.pdf for full explanation."
   ]
  },
  {
   "cell_type": "code",
   "execution_count": 9,
   "id": "ad4a513c",
   "metadata": {},
   "outputs": [
    {
     "data": {
      "text/plain": [
       "type label = string\n"
      ]
     },
     "execution_count": 9,
     "metadata": {},
     "output_type": "execute_result"
    },
    {
     "data": {
      "text/plain": [
       "type instruction =\n",
       "    Add of register * register * register\n",
       "  | Sub of register * register * register\n",
       "  | Addi of register * register * int\n",
       "  | Addiu of register * register * int\n",
       "  | Mul of register * register * register\n",
       "  | Div of register * register\n",
       "  | And of register * register * register\n",
       "  | Or of register * register * register\n",
       "  | Andi of register * register * int\n",
       "  | Ori of register * register * int\n",
       "  | Lw of register * int * register\n",
       "  | Sw of register * int * register\n",
       "  | La of register * label\n",
       "  | Li of register * int\n",
       "  | Move of register * register\n",
       "  | Mfhi of register\n",
       "  | Mflo of register\n",
       "  | Label of label\n",
       "  | Beq of register * register * string\n",
       "  | Bne of register * register * string\n",
       "  | Bgt of register * register * string\n",
       "  | Blt of register * register * string\n",
       "  | Bge of register * register * string\n",
       "  | Ble of register * register * string\n",
       "  | J of label\n",
       "  | Jr of register\n",
       "  | Jal of label\n",
       "  | SysCall\n",
       "  | Verbatim of string\n"
      ]
     },
     "execution_count": 9,
     "metadata": {},
     "output_type": "execute_result"
    }
   ],
   "source": [
    "(* We represent instructions as an abstract data type. *)\n",
    "\n",
    "type label = string\n",
    "\n",
    "type instruction =  Add of register * register * register (* add $1, $2, $3 - $1 = $2 + $3 *)\n",
    "                   | Sub of register * register * register (* sub $1, $2, $3; $1 = $2 - $3 *)\n",
    "                   | Addi of register * register * int (* addi $1, $2, 100 - $1 = $2 + 100, immediate means a constant number  *)\n",
    "                   | Addiu of register * register * int (* addi $1, $2, 100 - $1 = $2 + 100, values treated as unsigned, immediate means a constant number  *)\n",
    "                   | Mul of register * register * register (* mul $1, $2, $3 - $1 = $2 * $3, without overflow, result is only 32 bits *)\n",
    "                   | Div of register * register (* div $2, $3 - $hi,$low=$2/$3, Remainder stored in special register hi, Quotient stored in special register lo   *)\n",
    "                   | And of register * register * register (* and $1, $2, $3 - $1 = $2 & $3, bitwise AND *)\n",
    "                   | Or of register * register * register (* or $1, $2, $3 - $1 = $2 | 100, bitwise OR *)\n",
    "                   | Andi of register * register * int (* andi $1, $2, 100 - $1 = $2 & 100, bitwise AND with immediate value  *)\n",
    "                   | Ori of register * register * int (* ori $1, $2, 100 - $1 = $2 | 100, bitwise OR with immediate value  *)\n",
    "                   | Lw of register * int * register (* lw $1, 100 ($2) - load word, $1 = Memory[$2 + 100], copy from memory to register *)\n",
    "                   | Sw of register * int * register (* sw $1, 100 ($2) - store word, Memory[$2 + 100] = $1, copy from register to memory *)\n",
    "                   | La of register * label (* $1 = Address of label *) \n",
    "                   | Li of register * int (* li $1, 100 - Loads immediate value into register *)\n",
    "                   | Move of register * register (* move $1,$2 - $1 = $2, Copy from register to register *)\n",
    "                   | Mfhi of register (* mfhi $2, $2 = hi, copy from special register hi to general register *)\n",
    "                   | Mflo of register (* mflo $2, $2 = lo, copy from special register lo to general register *)\n",
    "                   | Label of label \n",
    "                   | Beq of register * register * string (* beq $1, $2, l - if ($1 == $2) go to label l *)\n",
    "                   | Bne of register * register * string (* bne $1, $2, l - if ($1 != $2) go to label l *)\n",
    "                   | Bgt of register * register * string (* bgt $1, $2, l - if ($1 > $2) go to label l *)\n",
    "                   | Blt of register * register * string (* blt $1, $2, l - if ($1 < $2) go to label l *)\n",
    "                   | Bge of register * register * string (* bge $1, $2, l - if ($1 >= $2) go to label l *)\n",
    "                   | Ble of register * register * string (* ble $1, $2, l - if ($1 <= $2) go to label l *)                  \n",
    "                   | J of label (* j l, go to label l, jumpt to target address *)\n",
    "                   | Jr of register (* jump register, jr $1, go to address stored in $1 *)\n",
    "                   | Jal of label (* jump and link, e.g. jal l - $ra=PC+4; go to label l - used when making procedure call. This saves the return address in $ra.  *)\n",
    "                   | SysCall \n",
    "                   | Verbatim of string "
   ]
  },
  {
   "cell_type": "markdown",
   "id": "ed082b70",
   "metadata": {},
   "source": [
    "MIPS code is simply a list of instructions:"
   ]
  },
  {
   "cell_type": "code",
   "execution_count": 10,
   "id": "cc600abe",
   "metadata": {},
   "outputs": [
    {
     "data": {
      "text/plain": [
       "type code = instruction list\n"
      ]
     },
     "execution_count": 10,
     "metadata": {},
     "output_type": "execute_result"
    }
   ],
   "source": [
    "type code = instruction list"
   ]
  },
  {
   "cell_type": "markdown",
   "id": "076a51d3",
   "metadata": {},
   "source": [
    "The following code prints instructions so that they are readible to the MIPS interpreter (https://cpulator.01xz.net/?sys=mipsr5b-spim). "
   ]
  },
  {
   "cell_type": "code",
   "execution_count": 12,
   "id": "24274aae",
   "metadata": {},
   "outputs": [
    {
     "data": {
      "text/plain": [
       "val print_register : register -> string = <fun>\n"
      ]
     },
     "execution_count": 12,
     "metadata": {},
     "output_type": "execute_result"
    },
    {
     "data": {
      "text/plain": [
       "val print_instruction : instruction -> string = <fun>\n"
      ]
     },
     "execution_count": 12,
     "metadata": {},
     "output_type": "execute_result"
    },
    {
     "data": {
      "text/plain": [
       "val print_code : code -> unit = <fun>\n"
      ]
     },
     "execution_count": 12,
     "metadata": {},
     "output_type": "execute_result"
    }
   ],
   "source": [
    "let print_register (r : register) = \n",
    "    match r with \n",
    "    | 2 | 3 -> \"$v\" ^ (string_of_int (r - v0)) \n",
    "    | 4 |5 |6 | 7 -> \"$a\" ^ string_of_int (r - a0)\n",
    "    | 8|9|10|11|12|13|14|15 -> \"$t\" ^ string_of_int (r - t0) \n",
    "    | 16|17|18|19|20|21|22|23 -> \"$s\" ^ string_of_int (r - s0)\n",
    "    | 24 -> \"$t8\"\n",
    "    | 25 -> \"$t9\"\n",
    "    | 29 -> \"$sp\"\n",
    "    | 30 -> \"$fp\"\n",
    "    | 31 -> \"$ra\"\n",
    "    | _ -> \"$\" ^ string_of_int r\n",
    "\n",
    "let print_instruction (i : instruction) = match i with \n",
    "    | Add (r1, r2, r3) -> \"add \" ^ print_register r1 ^ \", \" ^ print_register r2 ^ \", \" ^ print_register r3\n",
    "    | Sub (r1, r2, r3) -> \"sub \" ^ print_register r1 ^ \", \" ^ print_register r2 ^ \", \" ^ print_register r3\n",
    "    | Addi (r1, r2, i) -> \"addi \" ^ print_register r1 ^ \", \" ^ print_register r2 ^ \", \" ^ string_of_int i\n",
    "    | Addiu (r1, r2, i) -> \"addiu \" ^ print_register r1 ^ \", \" ^ print_register r2 ^ \", \" ^ string_of_int i\n",
    "    | Mul (r1, r2, r3) -> \"mul \" ^ print_register r1 ^ \", \" ^ print_register r2 ^ \", \" ^ print_register r3\n",
    "    | Div (r1, r2) -> \"div \" ^ print_register r1 ^ \", \" ^ print_register r2\n",
    "    | Beq (r1, r2, l) ->  \"beq \" ^ print_register r1 ^ \", \" ^ print_register r2 ^ \", \" ^ l\n",
    "    | Bne (r1, r2, l) ->  \"bne \" ^ print_register r1 ^ \", \" ^ print_register r2 ^ \", \" ^ l\n",
    "    | Bgt (r1, r2, l) ->  \"bgt \" ^ print_register r1 ^ \", \" ^ print_register r2 ^ \", \" ^ l\n",
    "    | Blt (r1, r2, l) ->  \"blt \" ^ print_register r1 ^ \", \" ^ print_register r2 ^ \", \" ^ l\n",
    "    | Bge (r1, r2, l) ->  \"bge \" ^ print_register r1 ^ \", \" ^ print_register r2 ^ \", \" ^ l\n",
    "    | Ble (r1, r2, l) ->  \"ble \" ^ print_register r1 ^ \", \" ^ print_register r2 ^ \", \" ^ l\n",
    "    | Li (r, i) -> \"li \" ^ print_register r ^ \", \" ^ string_of_int i\n",
    "    | Lw (r1, o, r2) -> \"lw \" ^ print_register r1 ^ \", \" ^ string_of_int o ^ \"(\" ^ print_register r2 ^ \")\" \n",
    "    | La (r, l) -> \"la \" ^ print_register r ^ \", \" ^  l\n",
    "    | Sw (r1, o, r2) -> \"sw \" ^ print_register r1 ^ \", \" ^ string_of_int o ^ \"(\" ^ print_register r2 ^ \")\" \n",
    "    | Move (r1, r2) -> \"move \" ^ print_register r1 ^ \", \" ^ print_register r2\n",
    "    | Mfhi r -> \"mfhi \"^ print_register r\n",
    "    | Mflo r -> \"mflo \"^ print_register r\n",
    "    | And (r1, r2, r3) -> \"and \" ^ print_register r1 ^ \", \" ^ print_register r2 ^ \", \" ^ print_register r3\n",
    "    | Andi (r1, r2, r3) -> \"andi \" ^ print_register r1 ^ \", \" ^ print_register r2 ^ \", \" ^ print_register r3\n",
    "    | Or (r1, r2, r3) -> \"or \" ^ print_register r1 ^ \", \" ^ print_register r2 ^ \", \" ^ print_register r3\n",
    "    | Ori (r1, r2, r3) -> \"ori \" ^ print_register r1 ^ \", \" ^ print_register r2 ^ \", \" ^ print_register r3\n",
    "    | SysCall -> \"syscall\"\n",
    "    | Label l -> l ^ \":\"\n",
    "    | J label -> \"j \" ^ label \n",
    "    | Jr r -> \"jr \" ^ print_register r\n",
    "    | Jal label -> \"jal \" ^ label\n",
    "    | Verbatim s -> s\n",
    "   \n",
    "let rec print_code (c : code) : unit = match c with \n",
    "    | [] -> ()\n",
    "    | c :: cs -> (print_endline (print_instruction c); print_code cs)"
   ]
  },
  {
   "cell_type": "markdown",
   "id": "08a43d4d",
   "metadata": {},
   "source": [
    "E.g., you can load the following code into the MIPS interpreter (https://cpulator.01xz.net/?sys=mipsr5b-spim). Try it out!"
   ]
  },
  {
   "cell_type": "code",
   "execution_count": 13,
   "id": "4cbf14a6",
   "metadata": {},
   "outputs": [
    {
     "name": "stdout",
     "output_type": "stream",
     "text": [
      "li $t7, 5\n",
      "li $t8, 4\n",
      "add $t8, $t8, $t9\n"
     ]
    },
    {
     "data": {
      "text/plain": [
       "- : unit = ()\n"
      ]
     },
     "execution_count": 13,
     "metadata": {},
     "output_type": "execute_result"
    }
   ],
   "source": [
    "print_code [Li (t7, 5); Li (t8, 4); Add (t8, t8, t9)]"
   ]
  },
  {
   "cell_type": "markdown",
   "id": "25601c37",
   "metadata": {},
   "source": [
    "## Compiling Expressions"
   ]
  },
  {
   "cell_type": "markdown",
   "id": "b3a723c3",
   "metadata": {},
   "source": [
    "The following code implement push/pop operations:"
   ]
  },
  {
   "cell_type": "code",
   "execution_count": 14,
   "id": "6fae08e1",
   "metadata": {},
   "outputs": [
    {
     "data": {
      "text/plain": [
       "exception E of string\n"
      ]
     },
     "execution_count": 14,
     "metadata": {},
     "output_type": "execute_result"
    },
    {
     "data": {
      "text/plain": [
       "val push : register -> code = <fun>\n"
      ]
     },
     "execution_count": 14,
     "metadata": {},
     "output_type": "execute_result"
    },
    {
     "data": {
      "text/plain": [
       "val pop : register -> code = <fun>\n"
      ]
     },
     "execution_count": 14,
     "metadata": {},
     "output_type": "execute_result"
    }
   ],
   "source": [
    "(* An exception to be used *)\n",
    "exception E of string\n",
    "\n",
    "(* Pushing the content of register r to the stack *)\n",
    "let push (r : register) : code = [Addiu (sp, sp, -4);\n",
    "                                  Sw (r, 0, sp)]\n",
    "\n",
    "(* Popping the stack into register r *)\n",
    "let pop (r : register) : code = [Lw (r, 0, sp);\n",
    "                                 Addiu (sp, sp, 4)]"
   ]
  },
  {
   "cell_type": "markdown",
   "id": "8ff06fc3",
   "metadata": {},
   "source": [
    "We can define compilation of expressions by traversing the abstract syntax tree:"
   ]
  },
  {
   "cell_type": "code",
   "execution_count": 15,
   "id": "856e3e1c",
   "metadata": {},
   "outputs": [
    {
     "data": {
      "text/plain": [
       "val compile_op : op -> register -> register -> register -> instruction list =\n",
       "  <fun>\n"
      ]
     },
     "execution_count": 15,
     "metadata": {},
     "output_type": "execute_result"
    },
    {
     "data": {
      "text/plain": [
       "val compile_exp : register -> exp -> code = <fun>\n"
      ]
     },
     "execution_count": 15,
     "metadata": {},
     "output_type": "execute_result"
    }
   ],
   "source": [
    "let compile_op (o : op) r1 r2 r = match o with \n",
    "    | Plus -> [Add (r1, r2, r)]\n",
    "    | Minus -> [Sub (r1, r2, r)]\n",
    "    | _ -> raise (E \"Not known.\") \n",
    "\n",
    "let rec compile_exp (r : register) (e : exp) : code = match e with \n",
    "    | Numb n -> [Li (r, n)]\n",
    "    | Op (e1, o, e2) -> compile_exp t8 e1\n",
    "                        @ push t8\n",
    "                        @ compile_exp t9 e2\n",
    "                        @ pop t8\n",
    "                        @ compile_op o r t8 t9\n",
    "    | _ -> raise (E \"not known\");;"
   ]
  },
  {
   "cell_type": "code",
   "execution_count": 16,
   "id": "fc0367fc",
   "metadata": {},
   "outputs": [
    {
     "name": "stdout",
     "output_type": "stream",
     "text": [
      "li $t8, 3\n",
      "addiu $sp, $sp, -4\n",
      "sw $t8, 0($sp)\n",
      "li $t8, 5\n",
      "addiu $sp, $sp, -4\n",
      "sw $t8, 0($sp)\n",
      "li $t9, 4\n",
      "lw $t8, 0($sp)\n",
      "addiu $sp, $sp, 4\n",
      "add $t9, $t8, $t9\n",
      "lw $t8, 0($sp)\n",
      "addiu $sp, $sp, 4\n",
      "add $s0, $t8, $t9\n"
     ]
    },
    {
     "data": {
      "text/plain": [
       "- : unit = ()\n"
      ]
     },
     "execution_count": 16,
     "metadata": {},
     "output_type": "execute_result"
    }
   ],
   "source": [
    "print_code ((compile_exp s0 (Op (Numb 3, Plus, (Op (Numb 5, Plus, Numb 4))))));;"
   ]
  },
  {
   "cell_type": "markdown",
   "id": "16eb1431",
   "metadata": {},
   "source": [
    "## Variables and Assignments"
   ]
  },
  {
   "cell_type": "code",
   "execution_count": 17,
   "id": "5e6765f6",
   "metadata": {},
   "outputs": [
    {
     "data": {
      "text/plain": [
       "exception EEnv of string\n"
      ]
     },
     "execution_count": 17,
     "metadata": {},
     "output_type": "execute_result"
    },
    {
     "data": {
      "text/plain": [
       "val maxreg : int = 23\n"
      ]
     },
     "execution_count": 17,
     "metadata": {},
     "output_type": "execute_result"
    },
    {
     "data": {
      "text/plain": [
       "val find_max_register : int Env.t -> int = <fun>\n"
      ]
     },
     "execution_count": 17,
     "metadata": {},
     "output_type": "execute_result"
    },
    {
     "data": {
      "text/plain": [
       "val declare_var : int Env.t -> string -> int Env.t = <fun>\n"
      ]
     },
     "execution_count": 17,
     "metadata": {},
     "output_type": "execute_result"
    }
   ],
   "source": [
    "exception EEnv of string\n",
    "\n",
    "let maxreg = 23\n",
    "\n",
    "(*  Function that finds the largest register in the environment. *)\n",
    "let find_max_register (env : int Env.t) = \n",
    "    Env.fold (fun _ a b -> max a b) env (s0 -1) \n",
    "\n",
    "\n",
    "(* Declaring a variable: \n",
    "  - When trying to declare a variable, and there are too many registers already \n",
    "    reserved, throw an exception. \n",
    "  - Else: Assign to variable x the largest register number + 1.\n",
    "*)\n",
    "let declare_var (env: int Env.t) (x:string) : int Env.t = \n",
    "    if (find_max_register env) >= maxreg\n",
    "     then raise (EEnv \"Too many variables\")\n",
    "     else Env.add x (1 + find_max_register env) env"
   ]
  },
  {
   "cell_type": "code",
   "execution_count": 18,
   "id": "eb71747a",
   "metadata": {},
   "outputs": [
    {
     "data": {
      "text/plain": [
       "- : int = 16\n"
      ]
     },
     "execution_count": 18,
     "metadata": {},
     "output_type": "execute_result"
    },
    {
     "data": {
      "text/plain": [
       "- : int = 17\n"
      ]
     },
     "execution_count": 18,
     "metadata": {},
     "output_type": "execute_result"
    }
   ],
   "source": [
    "Env.find \"b\"  (declare_var (declare_var Env.empty \"b\") \"a\");;\n",
    "\n",
    "Env.find \"a\"  (declare_var (declare_var Env.empty \"b\") \"a\");;"
   ]
  },
  {
   "cell_type": "code",
   "execution_count": 27,
   "id": "2d10a79e",
   "metadata": {},
   "outputs": [
    {
     "data": {
      "text/plain": [
       "val compile_op : op -> register -> register -> register -> instruction =\n",
       "  <fun>\n"
      ]
     },
     "execution_count": 27,
     "metadata": {},
     "output_type": "execute_result"
    },
    {
     "ename": "error",
     "evalue": "compile_error",
     "output_type": "error",
     "traceback": [
      "File \"[27]\", line 7, characters 14-40:\n7 |     | Id s -> [Move (r, Env.find s env)]\n                  ^^^^^^^^^^^^^^^^^^^^^^^^^^\nError: This expression has type instruction list\n       This is not a function; it cannot be applied.\n"
     ]
    }
   ],
   "source": [
    "let compile_op (o : op) r1 r2 r = match o with \n",
    "    | Plus -> Add (r1, r2, r)\n",
    "    | Minus -> Sub (r1, r2, r)\n",
    "    | _ -> raise (E \"Not implemented.\") \n",
    "\n",
    "let rec compile_exp env (r : register) (e : exp)  : code = match e with \n",
    "    | Id s -> [Move (r, Env.find s env)]\n",
    "    | Numb n -> [Li (r, n)]\n",
    "    | Neg e -> compile_exp env r (Op (Numb 0, Minus, e))\n",
    "    | Op (e1, o, e2) -> compile_exp env t8 e1\n",
    "                        @ push t8\n",
    "                        @ compile_exp env t9 e2\n",
    "                        @ pop t8\n",
    "                        @ [compile_op o r t8 t9];;"
   ]
  },
  {
   "cell_type": "markdown",
   "id": "a2eaa2b1",
   "metadata": {},
   "source": [
    "Compiling expressions: An expression will be translated into a sequence of instructions. \n",
    "This will create a value that we store in the given register."
   ]
  },
  {
   "cell_type": "code",
   "execution_count": 23,
   "id": "df24131f",
   "metadata": {},
   "outputs": [
    {
     "data": {
      "text/plain": [
       "val compile_dcls : int Env.t -> string list -> int Env.t = <fun>\n"
      ]
     },
     "execution_count": 23,
     "metadata": {},
     "output_type": "execute_result"
    },
    {
     "data": {
      "text/plain": [
       "val compile_cmd : register Env.t -> cmd -> code = <fun>\n"
      ]
     },
     "execution_count": 23,
     "metadata": {},
     "output_type": "execute_result"
    },
    {
     "data": {
      "text/plain": [
       "val compile_cmds : register Env.t -> cmd list -> code = <fun>\n"
      ]
     },
     "execution_count": 23,
     "metadata": {},
     "output_type": "execute_result"
    },
    {
     "data": {
      "text/plain": [
       "val compile_program : program -> instruction list = <fun>\n"
      ]
     },
     "execution_count": 23,
     "metadata": {},
     "output_type": "execute_result"
    }
   ],
   "source": [
    "let rec compile_dcls env (dcls : string list)  = match dcls with \n",
    "    | [] -> env \n",
    "    | dcl :: dcls' -> let env' = declare_var env dcl \n",
    "                      in compile_dcls env' dcls'\n",
    "\n",
    "let compile_cmd env (c : cmd) : code = match c with \n",
    "    | Asgn (s, e) -> compile_exp env (Env.find s env) e\n",
    "    | _ -> raise (E \"Not implemented.\")\n",
    "\n",
    "let rec compile_cmds env (cs : cmd list) : code = match cs with \n",
    "    | [] -> [] \n",
    "    | c :: cs -> compile_cmd env c @ compile_cmds env cs\n",
    "    \n",
    "\n",
    "let compile_program (p : program) = match p with \n",
    "    | Program (dcls, cmds) -> let env = compile_dcls Env.empty dcls in     \n",
    "        [Verbatim \".set noreorder\"; Verbatim \".text\"; Label \"_start\"]\n",
    "        @ compile_cmds env cmds\n",
    "        @ [Li (v0, 10); SysCall]"
   ]
  },
  {
   "cell_type": "code",
   "execution_count": 24,
   "id": "2ab5b431",
   "metadata": {},
   "outputs": [
    {
     "data": {
      "text/plain": [
       "val p : string =\n",
       "  \"\\nVAR A;\\nVAR B;\\nVAR C;\\nVAR D;\\nVAR Z; \\nA := 128; \\nB := 64;\\nC := 32;\\nD := 16; \\nZ := (A + B) + (C + D)\\n\"\n"
      ]
     },
     "execution_count": 24,
     "metadata": {},
     "output_type": "execute_result"
    },
    {
     "name": "stdout",
     "output_type": "stream",
     "text": [
      ".set noreorder\n",
      ".text\n",
      "_start:\n",
      "li $s0, 128\n",
      "li $s1, 64\n",
      "li $s2, 32\n",
      "li $s3, 16\n",
      "move $t8, $s0\n",
      "addiu $sp, $sp, -4\n",
      "sw $t8, 0($sp)\n",
      "move $t9, $s1\n",
      "lw $t8, 0($sp)\n",
      "addiu $sp, $sp, 4\n",
      "add $t8, $t8, $t9\n",
      "addiu $sp, $sp, -4\n",
      "sw $t8, 0($sp)\n",
      "move $t8, $s2\n",
      "addiu $sp, $sp, -4\n",
      "sw $t8, 0($sp)\n",
      "move $t9, $s3\n",
      "lw $t8, 0($sp)\n",
      "addiu $sp, $sp, 4\n",
      "add $t9, $t8, $t9\n",
      "lw $t8, 0($sp)\n",
      "addiu $sp, $sp, 4\n",
      "add $s4, $t8, $t9\n",
      "li $v0, 10\n",
      "syscall\n"
     ]
    },
    {
     "data": {
      "text/plain": [
       "val mips : unit = ()\n"
      ]
     },
     "execution_count": 24,
     "metadata": {},
     "output_type": "execute_result"
    }
   ],
   "source": [
    "let p = \"\n",
    "VAR A;\n",
    "VAR B;\n",
    "VAR C;\n",
    "VAR D;\n",
    "VAR Z; \n",
    "A := 128; \n",
    "B := 64;\n",
    "C := 32;\n",
    "D := 16; \n",
    "Z := (A + B) + (C + D)\n",
    "\"\n",
    "\n",
    "\n",
    "let mips =  (print_code (compile_program (parse_string p)));;"
   ]
  },
  {
   "cell_type": "markdown",
   "id": "4a8207ca",
   "metadata": {},
   "source": [
    "## Compiling SIMP\n",
    "\n",
    "See the slides for an explanation."
   ]
  },
  {
   "cell_type": "code",
   "execution_count": 25,
   "id": "4e839c0d",
   "metadata": {},
   "outputs": [
    {
     "data": {
      "text/plain": [
       "val counter : int ref = {contents = 0}\n"
      ]
     },
     "execution_count": 25,
     "metadata": {},
     "output_type": "execute_result"
    },
    {
     "data": {
      "text/plain": [
       "val next_val : unit -> int = <fun>\n"
      ]
     },
     "execution_count": 25,
     "metadata": {},
     "output_type": "execute_result"
    },
    {
     "data": {
      "text/plain": [
       "val compile_op : op -> register -> register -> register -> instruction list =\n",
       "  <fun>\n"
      ]
     },
     "execution_count": 25,
     "metadata": {},
     "output_type": "execute_result"
    },
    {
     "data": {
      "text/plain": [
       "val compile_exp : register Env.t -> register -> exp -> code = <fun>\n"
      ]
     },
     "execution_count": 25,
     "metadata": {},
     "output_type": "execute_result"
    },
    {
     "data": {
      "text/plain": [
       "val compile_branch : cond -> register -> register -> string -> instruction =\n",
       "  <fun>\n"
      ]
     },
     "execution_count": 25,
     "metadata": {},
     "output_type": "execute_result"
    },
    {
     "data": {
      "text/plain": [
       "val compile_cond :\n",
       "  register Env.t -> cond -> exp -> exp -> string -> instruction list = <fun>\n"
      ]
     },
     "execution_count": 25,
     "metadata": {},
     "output_type": "execute_result"
    },
    {
     "data": {
      "text/plain": [
       "val compile_dcls : int Env.t -> string list -> int Env.t = <fun>\n"
      ]
     },
     "execution_count": 25,
     "metadata": {},
     "output_type": "execute_result"
    },
    {
     "data": {
      "text/plain": [
       "val compile_cmd : register Env.t -> cmd -> code = <fun>\n",
       "val compile_cmds : register Env.t -> cmd list -> code = <fun>\n"
      ]
     },
     "execution_count": 25,
     "metadata": {},
     "output_type": "execute_result"
    },
    {
     "data": {
      "text/plain": [
       "val compile_program : program -> instruction list = <fun>\n"
      ]
     },
     "execution_count": 25,
     "metadata": {},
     "output_type": "execute_result"
    }
   ],
   "source": [
    "let counter : int ref = {contents = 0}\n",
    "\n",
    "(* Counts up from 1, hence gives us a unique number every time *)\n",
    "let next_val = \n",
    "    fun () ->\n",
    "      counter := (!counter) + 1;\n",
    "      !counter;;\n",
    "\n",
    "let compile_op (o : op) r1 r2 r = match o with \n",
    "    | Plus -> [Add (r1, r2, r)]\n",
    "    | Minus -> [Sub (r1, r2, r)]\n",
    "    | Mult -> [Mul (r1, r2, r)] \n",
    "    | Div -> [Div (r1, r2); Mflo r] \n",
    "\n",
    "let rec compile_exp env (r : register) (e : exp) : code = match e with \n",
    "    | Id s -> [Move (r, Env.find s env)]\n",
    "    | Numb n -> [Li (r, n)]\n",
    "    | Neg e -> compile_exp env r (Op (Numb 0, Minus, e))\n",
    "    | Op (e1, o, e2) -> compile_exp env t8 e1\n",
    "                        @ push t8\n",
    "                        @ compile_exp env t9 e2\n",
    "                        @ pop t8\n",
    "                        @ compile_op o r t8 t9;;\n",
    "\n",
    "\n",
    "let compile_branch o r1 r2 label = match o with \n",
    "    | Lt -> Bge (r1, r2, label)\n",
    "    | Lte -> Bgt (r1, r2, label)\n",
    "    | Gte -> Blt (r1, r2, label)\n",
    "    | Gt -> Ble (r1, r2, label)\n",
    "    | Eq -> Bne (r1, r2, label)\n",
    "    | Neq -> Beq (r1, r2, label)\n",
    "    \n",
    "let compile_cond env o e1 e2 label =   \n",
    "    compile_exp env t8 e1\n",
    "    @ push t8\n",
    "    @ compile_exp env t9 e2\n",
    "    @ pop t8\n",
    "    @ [compile_branch o t8 t9 label]\n",
    "    \n",
    "\n",
    "let rec compile_dcls env dcls = match dcls with \n",
    "    | [] -> env \n",
    "    | dcl :: dcls' -> let env' = declare_var env dcl \n",
    "                      in compile_dcls env' dcls'\n",
    "\n",
    "let rec compile_cmd env (c : cmd) : code = match c with \n",
    "    | If (e, c) -> (let label = \"IFEND\" ^ string_of_int (next_val ()) in\n",
    "                    match e with \n",
    "                    | Cop (e1, o, e2) -> compile_cond env o e1 e2 label\n",
    "                                        @ compile_cmd env c\n",
    "                                        @ [Label label])\n",
    "    | Ite (e, c1, c2) -> (let counter = string_of_int (next_val ()) in\n",
    "                            let label_end = \"IFEND\" ^ counter in\n",
    "                            let label_false = \"IFFALSE\" ^ counter in\n",
    "                match e with \n",
    "                | Cop (e1, o, e2) -> compile_cond env o e1 e2 label_false\n",
    "                                    @ compile_cmd env c1\n",
    "                                    @ [J label_end]\n",
    "                                    @ [Label label_false]\n",
    "                                    @ compile_cmd env c2\n",
    "                                    @ [Label label_end])\n",
    "    | While (e, c) -> ( let counter = string_of_int (next_val ()) in\n",
    "                        let label_loop = \"WLOOP\" ^ counter in\n",
    "                        let label_end = \"WEND\" ^ counter in\n",
    "                match e with \n",
    "                | Cop (e1, o, e2) -> [Label label_loop]\n",
    "                                    @ compile_cond env o e1 e2 label_end\n",
    "                                    @ compile_cmd env c\n",
    "                                    @ [J label_loop]\n",
    "                                    @ [Label label_end])\n",
    "    | Asgn (s, e) -> compile_exp env (Env.find s env) e\n",
    "    | Begin (Program (dcls, cmds)) -> let env' = compile_dcls env dcls in\n",
    "                                      compile_cmds env' cmds \n",
    "    | Print e -> [Li (v0, 1)] \n",
    "                 @ compile_exp env a0 e\n",
    "                 @ [SysCall]\n",
    "    | Input s -> let s_register = Env.find s env in \n",
    "                 [Li (v0, 4); La (a0, \"sinp\"); SysCall; Li (v0, 5); SysCall; Move (s_register, v0)]\n",
    "\n",
    "and compile_cmds env (cs : cmd list) : code = match cs with \n",
    "    | [] -> [] \n",
    "    | c :: cs -> compile_cmd env c @ compile_cmds env cs\n",
    "    \n",
    "let compile_program (p : program) = match p with \n",
    "    | Program (dcls, cmds) -> let env = compile_dcls Env.empty dcls in     \n",
    "        [Verbatim \".set noreorder\"; Verbatim \".data\"; Label \"sinp\"; Verbatim \".asciiz \\\"INPUT>\\\"  \"; Verbatim \".text\"; Label \"_start\"]\n",
    "        @ compile_cmds env cmds\n",
    "        @ [Li (v0, 10); SysCall]\n",
    "        "
   ]
  },
  {
   "cell_type": "code",
   "execution_count": 26,
   "id": "7c347e13",
   "metadata": {},
   "outputs": [
    {
     "data": {
      "text/plain": [
       "val example_if : string = \"\\nVAR A; \\nVAR MAX;\\nIF A > MAX THEN MAX := A\\n\"\n"
      ]
     },
     "execution_count": 26,
     "metadata": {},
     "output_type": "execute_result"
    },
    {
     "name": "stdout",
     "output_type": "stream",
     "text": [
      ".set noreorder\n",
      ".data\n",
      "sinp:\n",
      ".asciiz \"INPUT>\"  \n",
      ".text\n",
      "_start:\n",
      "move $t8, $s0\n",
      "addiu $sp, $sp, -4\n",
      "sw $t8, 0($sp)\n",
      "move $t9, $s1\n",
      "lw $t8, 0($sp)\n",
      "addiu $sp, $sp, 4\n",
      "ble $t8, $t9, IFEND1\n",
      "move $s1, $s0\n",
      "IFEND1:\n",
      "li $v0, 10\n",
      "syscall\n"
     ]
    },
    {
     "data": {
      "text/plain": [
       "val mips : unit = ()\n"
      ]
     },
     "execution_count": 26,
     "metadata": {},
     "output_type": "execute_result"
    }
   ],
   "source": [
    "let example_if = \"\n",
    "VAR A; \n",
    "VAR MAX;\n",
    "IF A > MAX THEN MAX := A\n",
    "\"\n",
    "\n",
    "let mips =  (print_code (compile_program (parse_string example_if)));;"
   ]
  },
  {
   "cell_type": "code",
   "execution_count": null,
   "id": "bdb00c3c",
   "metadata": {},
   "outputs": [],
   "source": [
    "let example_ite = \"\n",
    "VAR A; \n",
    "VAR B;\n",
    "VAR MAX;\n",
    "IF A > B THEN MAX := A ELSE MAX := B\n",
    "\"\n",
    "\n",
    "let mips =  (print_code (compile_program (parse_string example_ite)));;"
   ]
  },
  {
   "cell_type": "code",
   "execution_count": null,
   "id": "2d7c88c2",
   "metadata": {},
   "outputs": [],
   "source": [
    "let example_ite2 = \"\n",
    "VAR x; VAR y; VAR max;\n",
    "x := 3; \n",
    "y := 5;\n",
    "IF x > y\n",
    "THEN \n",
    "    max := x\n",
    "ELSE \n",
    "    max := y\n",
    "\"\n",
    "\n",
    "let mips =  (print_code (compile_program (parse_string example_ite2)));;"
   ]
  },
  {
   "cell_type": "code",
   "execution_count": null,
   "id": "634debd1",
   "metadata": {},
   "outputs": [],
   "source": [
    "let example_block = \"\n",
    "VAR A; VAR B; VAR C; \n",
    "A := 1; B := 2; C := 3; \n",
    "BEGIN \n",
    "    VAR A; VAR B; \n",
    "    A := 4; B := 5; C := 6; \n",
    "    BEGIN \n",
    "        VAR A; \n",
    "        A := 7; \n",
    "        B := 8; \n",
    "        C := 9 \n",
    "    END; \n",
    "    A := 10; B:= 11; C := 12\n",
    "END; \n",
    "A := 13; B := 14; C := 15\n",
    "\"\n",
    "\n",
    "let mips =  (print_code (compile_program (parse_string example_block)));;"
   ]
  },
  {
   "cell_type": "code",
   "execution_count": null,
   "id": "48257ed6",
   "metadata": {},
   "outputs": [],
   "source": [
    "let example_while = \"\n",
    "VAR n; \n",
    "n := 5; \n",
    "WHILE n > 0 DO\n",
    "BEGIN \n",
    "PRINT n; \n",
    "n := n - 1\n",
    "END\n",
    "\"\n",
    "\n",
    "let example_while = \"\n",
    "VAR n; \n",
    "n := 5; \n",
    "WHILE n > 0 DO\n",
    "BEGIN \n",
    "PRINT n; \n",
    "n := n - 1\n",
    "END\n",
    "\"\n",
    "\n",
    "let mips =  (print_code (compile_program (parse_string example_while)));;let mips =  (print_code (compile_program (parse_string example_while)));;"
   ]
  },
  {
   "cell_type": "code",
   "execution_count": null,
   "id": "c7538df7",
   "metadata": {},
   "outputs": [],
   "source": [
    "let example_input = \"\n",
    "VAR x; \n",
    "INPUT x; \n",
    "PRINT (x * x)\n",
    "\"\n",
    "\n",
    "let mips =  (print_code (compile_program (parse_string example_input)));;"
   ]
  },
  {
   "cell_type": "code",
   "execution_count": null,
   "id": "da24f2a7",
   "metadata": {
    "scrolled": true
   },
   "outputs": [],
   "source": [
    "let example_block2 = \"\n",
    "VAR A; VAR B; VAR C; \n",
    "A := 3; B := 4; \n",
    "BEGIN \n",
    "\tVAR B; VAR C;\n",
    "\tB := 3; \n",
    "\tC := 4\n",
    "END; \n",
    "C := 5 \"\n",
    "\n",
    "let mips =  (print_code (compile_program (parse_string example_block2)));;"
   ]
  },
  {
   "cell_type": "code",
   "execution_count": null,
   "id": "1216c7ac",
   "metadata": {},
   "outputs": [],
   "source": [
    "let example_if_easy = \"\n",
    "IF 3 > 2 THEN PRINT 3 \n",
    "\"\n",
    "\n",
    "let mips =  (print_code (compile_program (parse_string example_if_easy)));;"
   ]
  },
  {
   "cell_type": "markdown",
   "id": "abfae68a",
   "metadata": {},
   "source": [
    "## Optimizations\n",
    "\n"
   ]
  },
  {
   "cell_type": "markdown",
   "id": "ad2231b8",
   "metadata": {},
   "source": [
    "### Optimization During Code Generation\n",
    "\n",
    "The following is an example of code optimization during code generation: \n",
    "We remove unnecessary push/pop-operations and unnecessary moves during the compilation of expressions. \n",
    "\n",
    "Below you can see compilation of two programs which contain such unnecessary operations:"
   ]
  },
  {
   "cell_type": "code",
   "execution_count": null,
   "id": "2aca4d6d",
   "metadata": {},
   "outputs": [],
   "source": [
    "(* Example program *)\n",
    "\n",
    "let example_pushpop = \"\n",
    "VAR a; VAR b;\n",
    "a := 2 + b;\n",
    "b := a + 3\n",
    "\"\n",
    "\n",
    "let mips_pushpop =  (print_code (compile_program (parse_string example_pushpop)))"
   ]
  },
  {
   "cell_type": "code",
   "execution_count": null,
   "id": "e06b5f3a",
   "metadata": {},
   "outputs": [],
   "source": [
    "let example_move = \"\n",
    "VAR a; VAR b;\n",
    "a := 2 + b;\n",
    "b := a + 3\n",
    "\"\n",
    "let mips_move =  (print_code (compile_program (parse_string example_move)))"
   ]
  },
  {
   "cell_type": "markdown",
   "id": "0d4d1841",
   "metadata": {},
   "source": [
    "Below, you can see the optimized code.\n",
    "Note that only ``compile_exp`` is changed; all other parts stay the same."
   ]
  },
  {
   "cell_type": "code",
   "execution_count": null,
   "id": "b87d5274",
   "metadata": {},
   "outputs": [],
   "source": [
    "let compile_opt_op (o : op) r1 r2 r = match o with \n",
    "    | Plus -> [Add (r1, r2, r)]\n",
    "    | Minus -> [Sub (r1, r2, r)]\n",
    "    | Mult -> [Mul (r1, r2, r)] \n",
    "    | Div -> [Div (r1, r2); Mflo r] \n",
    "\n",
    "(* compile_opt_exp is otpimized: \n",
    "We do more fine-grained pattern matching during compilation. *)\n",
    "let rec compile_opt_exp env (r : register) (e : exp) : code = match e with \n",
    "    | Id s -> [Move (r, Env.find s env)]\n",
    "    | Numb n -> [Li (r, n)]\n",
    "    | Neg e -> compile_opt_exp env r (Op (Numb 0, Minus, e))\n",
    "    | Op (Id x, o, Id y) -> compile_opt_op o r (Env.find x env) (Env.find y env)\n",
    "    | Op (Id x, o, e2) -> compile_opt_exp env t9 e2\n",
    "                          @ compile_opt_op o r (Env.find x env) t9\n",
    "    | Op (e1, o, Numb n) -> compile_opt_exp env t8 e1\n",
    "                        @ compile_opt_exp env t9 (Numb n)\n",
    "                        @ compile_opt_op o r t8 t9\n",
    "    | Op (e1, o, Id x) -> compile_opt_exp env t8 e1\n",
    "                        @ compile_opt_op o r t8 (Env.find x env)\n",
    "    | Op (e1, o, e2) -> compile_opt_exp env t8 e1\n",
    "                        @ push t8\n",
    "                        @ compile_opt_exp env t9 e2\n",
    "                        @ pop t8\n",
    "                        @ compile_opt_op o r t8 t9\n",
    "\n",
    "let compile_opt_branch o r1 r2 label = match o with \n",
    "    | Lt -> Bge (r1, r2, label)\n",
    "    | Lte -> Bgt (r1, r2, label)\n",
    "    | Gte -> Blt (r1, r2, label)\n",
    "    | Gt -> Ble (r1, r2, label)\n",
    "    | Eq -> Bne (r1, r2, label)\n",
    "    | Neq -> Beq (r1, r2, label)\n",
    "    \n",
    "let compile_opt_cond env o e1 e2 label =   \n",
    "    compile_opt_exp env t8 e1\n",
    "    @ push t8\n",
    "    @ compile_opt_exp env t9 e2\n",
    "    @ pop t8\n",
    "    @ [compile_opt_branch o t8 t9 label]\n",
    "    \n",
    "\n",
    "let rec compile_opt_dcls env dcls = match dcls with \n",
    "    | [] -> env \n",
    "    | dcl :: dcls' -> let env' = declare_var env dcl \n",
    "                      in compile_opt_dcls env' dcls'\n",
    "\n",
    "let rec compile_opt_cmd env (c : cmd) : code = match c with \n",
    "    | If (e, c) -> (let label = \"IFEND\" ^ string_of_int (next_val ()) in\n",
    "                    match e with \n",
    "                    | Cop (e1, o, e2) -> compile_opt_cond env o e1 e2 label\n",
    "                                        @ compile_opt_cmd env c\n",
    "                                        @ [Label label])\n",
    "    | Ite (e, c1, c2) -> (let counter = string_of_int (next_val ()) in\n",
    "                            let label_end = \"IFEND\" ^ counter in\n",
    "                            let label_false = \"IFFALSE\" ^ counter in\n",
    "                match e with \n",
    "                | Cop (e1, o, e2) -> compile_opt_cond env o e1 e2 label_false\n",
    "                                    @ compile_opt_cmd env c1\n",
    "                                    @ [J label_end]\n",
    "                                    @ [Label label_false]\n",
    "                                    @ compile_opt_cmd env c2\n",
    "                                    @ [Label label_end])\n",
    "    | While (e, c) -> ( let counter = string_of_int (next_val ()) in\n",
    "                        let label_loop = \"WLOOP\" ^ counter in\n",
    "                        let label_end = \"WEND\" ^ counter in\n",
    "                match e with \n",
    "                | Cop (e1, o, e2) -> [Label label_loop]\n",
    "                                    @ compile_opt_cond env o e1 e2 label_end\n",
    "                                    @ compile_opt_cmd env c\n",
    "                                    @ [J label_loop]\n",
    "                                    @ [Label label_end])\n",
    "    | Asgn (s, e) -> compile_opt_exp env (Env.find s env) e\n",
    "    | Begin (Program (dcls, cmds)) -> let env' = compile_opt_dcls env dcls in\n",
    "                                      compile_opt_cmds env' cmds \n",
    "    | Print e -> [Li (v0, 1)] \n",
    "                 @ compile_opt_exp env a0 e\n",
    "                 @ [SysCall]\n",
    "    | Input s -> let s_register = Env.find s env in \n",
    "                 [Li (v0, 4); La (a0, \"sinp\"); SysCall; Li (v0, 5); SysCall; Move (s_register, v0)]\n",
    "\n",
    "and compile_opt_cmds env (cs : cmd list) : code = match cs with \n",
    "    | [] -> [] \n",
    "    | c :: cs -> compile_opt_cmd env c @ compile_opt_cmds env cs\n",
    "\n",
    "let compile_opt_program (p : program) = match p with \n",
    "    | Program (dcls, cmds) -> let env = compile_opt_dcls Env.empty dcls in     \n",
    "        [Verbatim \".set noreorder\"; Verbatim \".data\"; Label \"sinp\"; Verbatim \".asciiz \\\"INPUT>\\\"  \"; Verbatim \".text\"; Label \"_start\"]\n",
    "        @ compile_opt_cmds env cmds\n",
    "        @ [Li (v0, 10); SysCall]"
   ]
  },
  {
   "cell_type": "markdown",
   "id": "e98b1e9f",
   "metadata": {},
   "source": [
    "Our optimized programs now look like this:"
   ]
  },
  {
   "cell_type": "code",
   "execution_count": null,
   "id": "902d1657",
   "metadata": {},
   "outputs": [],
   "source": [
    "let mips_optimized_move =  (print_code (compile_opt_program (parse_string example_move)))"
   ]
  },
  {
   "cell_type": "code",
   "execution_count": null,
   "id": "f9132a51",
   "metadata": {},
   "outputs": [],
   "source": [
    "let mips_optimized_pushpop =  (print_code (compile_opt_program (parse_string example_pushpop)))"
   ]
  },
  {
   "cell_type": "markdown",
   "id": "4f0fdccb",
   "metadata": {},
   "source": [
    "### Peep-Hole Optimizations\n",
    "\n",
    "Another optimization is peep-hole optimization. \n",
    "This optimization works on the **target code** and not during compilation itself.\n",
    "\n",
    "Recall the above example and generated code for unnecessary push-pop operations:"
   ]
  },
  {
   "cell_type": "code",
   "execution_count": null,
   "id": "d7d13358",
   "metadata": {},
   "outputs": [],
   "source": [
    "(* Example program *)\n",
    "\n",
    "let example_pushpop = \"\n",
    "VAR a; VAR b;\n",
    "a := 2 + b;\n",
    "b := a + 3\n",
    "\"\n",
    "\n",
    "let mips_pushpop =  (print_code (compile_program (parse_string example_pushpop)))"
   ]
  },
  {
   "cell_type": "markdown",
   "id": "bbfefca1",
   "metadata": {},
   "source": [
    "See below an optimization for removing unnecessary push-pop sequences.\n",
    "We basically do one big **pattern-matching** on the generated code. \n",
    "\n",
    "Note that in patterns every variable can only be bound once, \n",
    "and that we can't use definitions (only constants)."
   ]
  },
  {
   "cell_type": "code",
   "execution_count": null,
   "id": "a5469bf7",
   "metadata": {},
   "outputs": [],
   "source": [
    "(* Peephole Optimization *)\n",
    "\n",
    "let rec peephole_step (cs : code) : code = match cs with \n",
    "| Addiu (29, 29, -4) :: Sw (24, 0, 29) :: \n",
    "Li (r, n) :: Lw (24, 0, 29) :: Addiu (29, 29, 4) :: cs' -> if (r = 24) \n",
    "                    then Addiu (29, 29, -4) :: Sw (24, 0, 29) :: Li (r, n) :: Lw (24, 0, 29) :: Addiu (29, 29, 4) :: peephole_step cs'\n",
    "                    else Li (r, n) :: peephole_step cs' \n",
    "| Addiu (29, 29, -4) :: Sw (24, 0, 29) :: \n",
    "Move (r1, r2) :: Lw (24, 0, 29) :: Addiu (29, 29, 4) :: cs' -> \n",
    "                    if (r1 = 24) \n",
    "                    then Addiu (29, 29, -4) :: Sw (24, 0, 29) :: Move (r1, r2) :: Lw (24, 0, 29) :: Addiu (29, 29, 4) :: peephole_step cs'\n",
    "                    else Move (r1, r2) :: peephole_step cs' \n",
    "| c :: cs' -> c :: peephole_step cs'\n",
    "| [] -> []"
   ]
  },
  {
   "cell_type": "markdown",
   "id": "af7d473f",
   "metadata": {},
   "source": [
    "For building in the optimization, we simply apply the ``peephole_step`` function on the compiled program:"
   ]
  },
  {
   "cell_type": "code",
   "execution_count": null,
   "id": "e5ea0276",
   "metadata": {},
   "outputs": [],
   "source": [
    "let mips =  (print_code \n",
    "(peephole_step (compile_program (parse_string example_pushpop))))"
   ]
  },
  {
   "cell_type": "markdown",
   "id": "5b9045d8",
   "metadata": {},
   "source": [
    "### Constant Folding\n",
    "\n",
    "The following displays the code seen in the lecture for constant folding. \n",
    "Here is an example of code before being optimized:"
   ]
  },
  {
   "cell_type": "code",
   "execution_count": null,
   "id": "fc48e0de",
   "metadata": {},
   "outputs": [],
   "source": [
    "let example_cf = \"\n",
    "VAR a; VAR b; VAR c; \n",
    "a := (2 + 3) * 5;\n",
    "b := a + 7; \n",
    "c := (3 - a) * (5 + 7)\n",
    "\"\n",
    "\n",
    "let mips_cf =  (print_code (compile_program (parse_string example_cf)))"
   ]
  },
  {
   "cell_type": "markdown",
   "id": "2ad40246",
   "metadata": {},
   "source": [
    "Constant folding is an optimization on the abstract syntax tree. \n",
    "See below the code:"
   ]
  },
  {
   "cell_type": "code",
   "execution_count": null,
   "id": "2033f0df",
   "metadata": {},
   "outputs": [],
   "source": [
    "(* One-step constant folding *)\n",
    "let rec cf_exp (e : exp)  = match e with \n",
    "    | Op (Numb n1, o, Numb n2) -> (match o with \n",
    "                                   | Plus -> Numb (n1 + n2)\n",
    "                                   | Minus -> Numb (n1 - n2)\n",
    "                                   | Mult -> Numb (n1 * n2)\n",
    "                                   | Div -> Numb (n1 / n2)\n",
    "                                    )\n",
    "    | Op (e1, o, e2) -> Op (cf_exp e1, o, cf_exp e2)\n",
    "    | Neg (Numb n) -> Numb (-n)\n",
    "    | Neg e -> Neg (cf_exp e)\n",
    "    | _ -> e\n",
    "\n",
    "let cf_condexp (e : condexp) : condexp = match e with \n",
    "    | Cop (e1, o, e2) -> Cop (cf_exp e1, o, cf_exp e2)\n",
    "\n",
    "let rec cf_cmd (c : cmd) : cmd = match c with \n",
    "    | Asgn (x, e) -> Asgn (x, cf_exp e)\n",
    "    | Ite (e, c1, c2) -> Ite (cf_condexp e, cf_cmd c1, cf_cmd c2)\n",
    "    | If (e, c) -> If (cf_condexp e, cf_cmd c)\n",
    "    | While (e, c) -> While (cf_condexp e, cf_cmd c)\n",
    "    | Begin p -> Begin (cf_program p)\n",
    "    | Print e -> Print (cf_exp e)\n",
    "    | _ -> c\n",
    "\n",
    "and cf_program (p : program) : program = match p with \n",
    "    | Program (dcls, cs) -> Program (dcls, List.map cf_cmd cs)\n",
    "\n",
    "\n",
    "(* Multi-step constant-folding - we apply the step function until the program no longer changes. *)\n",
    "let rec cf p = \n",
    "    let p' = cf_program p in \n",
    "    if (p = p') then p else cf p'"
   ]
  },
  {
   "cell_type": "markdown",
   "id": "c79f593e",
   "metadata": {},
   "source": [
    "The actual optimization is on the abstract syntax tree..."
   ]
  },
  {
   "cell_type": "code",
   "execution_count": null,
   "id": "2ea52831",
   "metadata": {},
   "outputs": [],
   "source": [
    "let example_cf_optimized =  cf (parse_string example_cf);;"
   ]
  },
  {
   "cell_type": "markdown",
   "id": "76af8e95",
   "metadata": {},
   "source": [
    "... but this of course also optimized the MIPS code if built-in:"
   ]
  },
  {
   "cell_type": "code",
   "execution_count": null,
   "id": "e624462e",
   "metadata": {},
   "outputs": [],
   "source": [
    "let mips_cf_optimized =  (print_code (compile_program (cf(parse_string example_cf))))"
   ]
  },
  {
   "cell_type": "markdown",
   "id": "72a058b5",
   "metadata": {},
   "source": [
    "### Constant Propagation\n",
    "\n",
    "Next, you can see the code for constant propagation:"
   ]
  },
  {
   "cell_type": "code",
   "execution_count": null,
   "id": "a4180282",
   "metadata": {},
   "outputs": [],
   "source": [
    "(* Constant propagation *)\n",
    "let update_env env (x : string) e = match e with \n",
    "    | Numb n -> Env.add x n env\n",
    "    | e' -> Env.remove x env\n",
    "\n",
    "let merge_env (env1 : int Env.t) (env2 : int Env.t) = Env.merge (fun _ x1 x2 -> match x1, x2 with \n",
    "                                                    | Some n1, Some n2 -> if (n1 = n2) then Some n1 else None\n",
    "                                                    | _, _ -> None) env1 env2\n",
    "\n",
    "let rec cp_exp env (e : exp) : exp = match e with \n",
    "    | Id x -> if Env.mem x env\n",
    "                 then Numb (Env.find x env) \n",
    "                 else e \n",
    "    | Op (e1, o, e2) -> Op (cp_exp env e1, o, cp_exp env e2)\n",
    "    | Neg e -> Neg (cp_exp env e)\n",
    "    | _ -> e\n",
    "    \n",
    "let cp_condexp env (e : condexp) : condexp = match e with \n",
    "    | Cop (e1, o, e2) -> Cop (cp_exp env e1, o, cp_exp env e2)\n",
    "    \n",
    "let rec cp_cmd (env: int Env.t) (c : cmd) : cmd * int Env.t = match c with \n",
    "    | Asgn (x, e) -> (let e' = cp_exp env e in \n",
    "                      (Asgn (x, e'), update_env env x e' ))\n",
    "    | Print e -> (Print (cp_exp env e), env)\n",
    "    | Input x -> (Input x, Env.remove x env)\n",
    "    | If (e, c) -> let (c', env') = cp_cmd env c in \n",
    "                   (If (cp_condexp env e, c'), merge_env env env')\n",
    "    | Ite (e, c1, c2) -> let (c1', env') = cp_cmd env c1 in \n",
    "                         let (c2', env'') = cp_cmd env c2 in \n",
    "                       (Ite (cp_condexp env e, c1', c2'), merge_env env' env'')\n",
    "    | _ -> (c, Env.empty)  \n",
    "\n",
    "and cp_cmds env cs : cmd list * int Env.t = match cs with \n",
    "    | [] -> ([], env)\n",
    "    | c :: cs' -> let (c', env') = cp_cmd env c in \n",
    "                 let (cs', env'') = cp_cmds env' cs' in \n",
    "                 (c' :: cs', env'')\n",
    "\n",
    "and cp_program_helper env p = match p with \n",
    "    | Program (dcls, cs) -> let env' = List.fold_left (fun env d -> Env.remove d env) env dcls in \n",
    "                            let (cs', env'') = cp_cmds env' cs in\n",
    "                            (Program (dcls, cs'))\n",
    "                            \n",
    "                            \n",
    "let cp_program p =  (cp_program_helper Env.empty p)                            "
   ]
  },
  {
   "cell_type": "code",
   "execution_count": null,
   "id": "9ae82d79",
   "metadata": {},
   "outputs": [],
   "source": [
    "let example_cp = \"\n",
    "VAR a; VAR b; VAR c; \n",
    "a := 3; \n",
    "b := 2; \n",
    "c := a + b\n",
    "\"\n",
    "\n",
    "let cp_optimized =  cp_program (parse_string example_cp)"
   ]
  },
  {
   "cell_type": "markdown",
   "id": "12f96f28",
   "metadata": {},
   "source": [
    "Constant propagation and constant folding work well together:"
   ]
  },
  {
   "cell_type": "code",
   "execution_count": null,
   "id": "3b79509d",
   "metadata": {},
   "outputs": [],
   "source": [
    "let cp_optimized =  cf (cp_program (parse_string example_cp))"
   ]
  },
  {
   "cell_type": "code",
   "execution_count": null,
   "id": "e2f2cc2b",
   "metadata": {},
   "outputs": [],
   "source": [
    "let example_cp2 = \"\n",
    "VAR a; VAR b; VAR c; \n",
    "a := 3; \n",
    "b := 2; \n",
    "INPUT a;\n",
    "c := a + b\n",
    "\"\n",
    "\n",
    "let cp2_optimized = cf (cp_program (parse_string example_cp2))"
   ]
  },
  {
   "cell_type": "code",
   "execution_count": null,
   "id": "fa1c65ee",
   "metadata": {},
   "outputs": [],
   "source": [
    "let example_cf = \"\n",
    "VAR a; VAR b; VAR c; \n",
    "a := (2 + 3) * 5;\n",
    "b := a + 7; \n",
    "c := (3 - a) * (5 + 7)\n",
    "\"\n",
    "\n",
    "let cf_optimized =  cf (cp_program (cf (parse_string example_cf)))"
   ]
  },
  {
   "cell_type": "markdown",
   "id": "3797f613",
   "metadata": {},
   "source": [
    "### Chaining Optimizations\n",
    "\n",
    "Having optimizations as a separate phase, makes it easy to chain different optimizations. \n",
    "See below how to combine constant-folding/constant propagation/peephole optimization:"
   ]
  },
  {
   "cell_type": "code",
   "execution_count": null,
   "id": "9b14920d",
   "metadata": {},
   "outputs": [],
   "source": [
    "let example = \"\n",
    "VAR a; VAR b; VAR c; \n",
    "a := (2 + 3) * 5;\n",
    "b := a + 7; \n",
    "INPUT a;\n",
    "c := (3 - a) * (5 + 7)\n",
    "\"\n",
    "\n",
    "let mips =  (print_code (compile_program (parse_string example)))"
   ]
  },
  {
   "cell_type": "code",
   "execution_count": null,
   "id": "b99b7c66",
   "metadata": {},
   "outputs": [],
   "source": [
    "let mips_optimized =  print_code\n",
    "(peephole_step\n",
    "(compile_program \n",
    "(cf (cp_program (cf (parse_string example))))))"
   ]
  }
 ],
 "metadata": {
  "kernelspec": {
   "display_name": "OCaml 4.13",
   "language": "OCaml",
   "name": "ocaml-jupyter-4.13"
  },
  "language_info": {
   "codemirror_mode": "text/x-ocaml",
   "file_extension": ".ml",
   "mimetype": "text/x-ocaml",
   "name": "OCaml",
   "nbconverter_exporter": null,
   "pygments_lexer": "OCaml",
   "version": "4.13.1"
  }
 },
 "nbformat": 4,
 "nbformat_minor": 5
}
