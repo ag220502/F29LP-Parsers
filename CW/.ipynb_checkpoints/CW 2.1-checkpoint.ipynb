{
 "cells": [
  {
   "cell_type": "markdown",
   "id": "64a4419e",
   "metadata": {},
   "source": [
    "# CW2.1:  Compiler Front End for FUNC\n",
    "\n",
    "Your overall task is to develop a compiler for the programming language given below, called ``FUNC``.\n",
    "This overall task is composed of two parts:\n",
    "\n",
    "- **CW2 Part I** is concerned with the implementation of the compiler’s front end (this document). This is worth 10 marks.\n",
    "- **CW2 Part II** is concerned with the implementation of the compiler’s back end. This is also worth 10 marks and released later. "
   ]
  },
  {
   "cell_type": "markdown",
   "id": "ef45ea05",
   "metadata": {},
   "source": [
    "**CW 2 Part I** consists of two parts: \n",
    "- Writing a lexer (4 points)\n",
    "- Writing a parser (6 points)\n",
    "\n",
    "If you have any questions, use the labs slots or ask Kathrin & the Lab Helpers."
   ]
  },
  {
   "cell_type": "markdown",
   "id": "d59f7dae",
   "metadata": {},
   "source": [
    "**IMPORTANT** \n",
    "Compiler errors: All code you submit must compile. Programs that do not compile will receive an automatic zero.\n",
    "- If you are having trouble getting your assignment to compile, please visit consulting hours.\n",
    "- If you run out of time, it is better to comment out the parts that do not compile, than hand in a more complete file that does not compile."
   ]
  },
  {
   "cell_type": "markdown",
   "id": "c050032c",
   "metadata": {},
   "source": [
    "## Testing \n",
    "\n",
    "At the end of this file you'll find example program you can test your programs with. \n",
    "**You will want to write additional tests for intermediate steps.**\n",
    "\n",
    "You can easily write tests to ensure that your program behaves as expected as follows:"
   ]
  },
  {
   "cell_type": "code",
   "execution_count": null,
   "id": "89e795f8",
   "metadata": {},
   "outputs": [],
   "source": [
    "assert ([2;3;5;5;2;1] (* Expected result *) \n",
    "= [2;3;5] @ [5;2;1] (* Calling your function *) ) ;; "
   ]
  },
  {
   "cell_type": "markdown",
   "id": "22b504b2",
   "metadata": {},
   "source": [
    "**The plagarism policy does not hold for this part of the coursework. \n",
    "Please feel free to share your tests with other students in the course.**"
   ]
  },
  {
   "cell_type": "markdown",
   "id": "cf5fedd2",
   "metadata": {},
   "source": [
    "## Submission\n",
    "\n",
    "Please submit a .zip file containing this notebook and the file ``CW/func.mll`` on Canvas until **Fri, 24th March**. \n",
    "Please ensure that you do not change the name or signature of the functions ``parse_exp``, ``parse_program``, etc. \n",
    "\n",
    "**Late Submissions.** See Canvas for F29LP's late-submission policy. \n",
    "\n",
    "**Plagarism.** All code (except tests) is subject to the course's plagarism policy. \n",
    "\n",
    "Happy coding!"
   ]
  },
  {
   "cell_type": "markdown",
   "id": "9b7dc909",
   "metadata": {},
   "source": [
    "## The Source Language: FUNC\n",
    "\n",
    "The ``FUNC`` language has the following syntax: \n",
    "\n",
    "```\n",
    "<program> ::= <methods> ",
    "\n",
    "<methods> ::= <method>;[<methods>] ",
    "\n",
    "<method> ::= method <id>([<args>]) [vars <args>] \n",
    "\tbegin <statements> [return <id>;] endmethod\n",
    "<args> ::= <id>[,<args>] \n",
    "<statements> ::= <statement>;[<statements>] ",
    "\n",
    "<statement> ::= <assign> | <if> | <while> | <rw>\n",
    "<rw> ::= read <id> | write <exp>\n",
    "<assign> ::= <id> := <exp>\n",
    "<if> ::= if  <cond> then <statements> [else <statements>] endif ",
    "\n",
    "<while> ::= while <cond> begin <statements> endwhile\n",
    "<cond> ::= <bop> ( [<exps>] ) ",
    "\n",
    "<bop> ::= less | lessEq | eq | nEq ",
    "\n",
    "<exps> ::= <exp> [,<exps>] ",
    "\n",
    "<exp> ::= <id>[( [<exps>] )] | <int> ",
    "\n",
    "<int> is a natural number (no leading zeroes) ",
    "\n",
    "<id> is any string starting with a character followed by characters or numbers (that is not already a keyword)\n",
    "```\n",
    "\n",
    "- Each program must have a function called ``main`` with no arguments and no return value. \n",
    "- All other functions may have an optional return value. If a function does not have a return value, they implicitly return `0`.\n",
    "- You should support the following built-in functions - assume they have been defined; they accept two integers and return an integer:\n",
    "     - ``plus``, which adds its arguments;\n",
    "     - ``times``, which multiplies its arguments;\n",
    "     - ``minus``, which subtracts its arguments;\n",
    "     - ``divide``, which divides its arguments.\n",
    "- All the boolean operators (``less``, ``lessEq``, ``eq``, ``nEq``) are also binary, i.e. take two arguments.\n",
    "- The ``read`` command assumes that the given variable is an ``int`` variable.\n",
    "\n",
    "##### Example \n",
    "\n",
    "The following example illustrates a valid FUNC program (more examples later in the document)\n",
    "\n",
    "```\n",
    "method pow(x, y) vars i, res\n",
    "begin\n",
    "    res := x; ",
    "\n",
    "    i := 1; ",
    "\n",
    "    while less(i,y)\n",
    "    begin\n",
    "        res := times(res,x);\n",
    "        i := plus(i,1); \n",
    "    endwhile;\n",
    "    write res;\n",
    "    return res;\n",
    "endmethod;\n",
    "\n",
    "method main() vars a, b, x\n",
    "begin\n",
    "    a := 5; b := 2; ",
    "\n",
    "    x := pow(b,a);\n",
    "    if  eq(x,32) then write 1; else write 0; endif; \n",
    "endmethod;\n",
    "```"
   ]
  },
  {
   "cell_type": "markdown",
   "id": "bc72e9d7",
   "metadata": {},
   "source": [
    "## Part 1: Lexing (4 Points)"
   ]
  },
  {
   "cell_type": "markdown",
   "id": "c3ebdf60",
   "metadata": {},
   "source": [
    "Produce a lexer file into ``CW/func.mll`` together with a suitable representation of tokens."
   ]
  },
  {
   "cell_type": "markdown",
   "id": "bc36607d",
   "metadata": {},
   "source": [
    "**IMPORTANT** Jupyter Notebooks automatically saves some output information. \n",
    "Each time you change the ``func.mll`` file and want to re-run the following commands, \n",
    "first choose in the menu Kernel -> Restart & Clear Output to ensure your changed file is used."
   ]
  },
  {
   "cell_type": "code",
   "execution_count": 296,
   "id": "7be51325",
   "metadata": {},
   "outputs": [],
   "source": [
    "#require \"jupyter.notebook\" ;;\n",
    "open Jupyter_notebook ;;"
   ]
  },
  {
   "cell_type": "code",
   "execution_count": 297,
   "id": "7a940ccc",
   "metadata": {},
   "outputs": [
    {
     "name": "stdout",
     "output_type": "stream",
     "text": [
      "81 states, 5399 transitions, table size 22082 bytes\n"
     ]
    },
    {
     "data": {
      "text/plain": [
       "- : Jupyter_notebook.Process.t =\n",
       "{Jupyter_notebook.Process.exit_status = Unix.WEXITED 0; stdout = None;\n",
       " stderr = None}\n"
      ]
     },
     "execution_count": 297,
     "metadata": {},
     "output_type": "execute_result"
    },
    {
     "data": {
      "text/plain": [
       "- : Jupyter_notebook.Process.t =\n",
       "{Jupyter_notebook.Process.exit_status = Unix.WEXITED 0; stdout = None;\n",
       " stderr = None}\n"
      ]
     },
     "execution_count": 297,
     "metadata": {},
     "output_type": "execute_result"
    },
    {
     "name": "stdout",
     "output_type": "stream",
     "text": [
      "The files func.cmo and func.cmo disagree over interface Func\n"
     ]
    },
    {
     "data": {
      "text/plain": [
       "val stream_to_list : Lexing.lexbuf -> Func.token List.t = <fun>\n"
      ]
     },
     "execution_count": 297,
     "metadata": {},
     "output_type": "execute_result"
    }
   ],
   "source": [
    "(* Run the lexer generator *)\n",
    "Process.sh \"ocamllex func.mll\";;\n",
    "\n",
    "(* Compile and load the file produced by the lexer *)\n",
    "Process.sh \"ocamlc -c func.ml\";;\n",
    "#load \"func.cmo\";;\n",
    "\n",
    "(* Convert the buffer into a list for further processing. *)\n",
    "let rec stream_to_list buffer = \n",
    "    match Func.token buffer with \n",
    "    | EOF -> []\n",
    "    | x -> x :: stream_to_list buffer"
   ]
  },
  {
   "cell_type": "code",
   "execution_count": 298,
   "id": "0f9437fb",
   "metadata": {},
   "outputs": [
    {
     "data": {
      "text/plain": [
       "val ex1 : string =\n",
       "  \"method pow(x,y) vars i, res,w\\nbegin\\n\\n\\tres := x(da,da(1,2,m(1,1)),1);\\n\\ti := 2;\\n\\tif eq(x,32) then \\n\\t\\twrite 1;\\n\\t\\tread a;\\n\\telse\\n\\t\\tb := 11;\\n\\tendif;\\n\\twhile less(i,y)\\n\\tbegin\\n\\t\\tres := times(res,x);\\n\\t\\ti := plus(i,1);\\n        endwhile;\\n\\twrite res;\\n\\treturn res;\\n\\nendmethod;\\n\\nmethod main() vars a, b, x\\nbegin\\n\\n\\t\"... (* string length 401; truncated *)\n"
      ]
     },
     "execution_count": 298,
     "metadata": {},
     "output_type": "execute_result"
    },
    {
     "data": {
      "text/plain": [
       "val res : Func.token List.t =\n",
       "  (::) (METHOD,\n",
       "   [ID \"pow\"; LBRA; ID \"x\"; COMMA; ID \"y\"; RBRA; VARS; ID \"i\"; COMMA;\n",
       "    ID \"res\"; COMMA; ID \"w\"; BEGIN; ID \"res\"; ASGN; ID \"x\"; LBRA; ID \"da\";\n",
       "    COMMA; ID \"da\"; LBRA; INT 1; COMMA; INT 2; COMMA; ID \"m\"; LBRA; INT 1;\n",
       "    COMMA; INT 1; RBRA; RBRA; COMMA; INT 1; RBRA; SEMI; ID \"i\"; ASGN; \n",
       "    INT 2; SEMI; IF; EQ; LBRA; ID \"x\"; COMMA; INT 32; RBRA; THEN; WRITE;\n",
       "    INT 1; SEMI; READ; ID \"a\"; SEMI; ELSE; ID \"b\"; ASGN; INT 11; SEMI; ENDIF;\n",
       "    SEMI; WHILE; LS; LBRA; ID \"i\"; COMMA; ID \"y\"; RBRA; BEGIN; ID \"res\";\n",
       "    ASGN; MULT; LBRA; ID \"res\"; COMMA; ID \"x\"; RBRA; SEMI; ID \"i\"; ASGN;\n",
       "    PLUS; LBRA; ID \"i\"; COMMA; INT 1; RBRA; SEMI; ENDWHILE; SEMI; WRITE;\n",
       "    ID \"res\"; SEMI; RETURN; ID \"res\"; SEMI; ENDMETHOD; SEMI; METHOD;\n",
       "    ID \"main\"; LBRA; RBRA; VARS; ID \"a\"; COMMA; ID \"b\"; COMMA; ID \"x\"; BEGIN;\n",
       "    ID \"a\"; ASGN; INT 5; SEMI; ID \"b\"; ASGN; INT 2; SEMI; ID \"x\"; ASGN;\n",
       "    ID \"pow\"; LBRA; ID \"b\"; COMMA; ID \"a\"; RBRA; SEMI; IF; EQ; LBRA; \n",
       "    ID \"x\"; COMMA; INT 32; RBRA; THEN; WRITE; INT 1; SEMI; ELSE; WRITE;\n",
       "    INT 0; SEMI; ENDIF; SEMI; ENDMETHOD; SEMI])\n"
      ]
     },
     "execution_count": 298,
     "metadata": {},
     "output_type": "execute_result"
    }
   ],
   "source": [
    "(*\n",
    "You can test your lexer here. \n",
    "See below the code for lexing program ex1.\n",
    "You will want to test your lexer with more code snippets!\n",
    "*)\n",
    "let ex1 = \"method pow(x,y) vars i, res,w\n",
    "begin\n",
    "\n",
    "\tres := x(da,da(1,2,m(1,1)),1);\n",
    "\ti := 2;\n",
    "\tif eq(x,32) then \n",
    "\t\twrite 1;\n",
    "\t\tread a;\n",
    "\telse\n",
    "\t\tb := 11;\n",
    "\tendif;\n",
    "\twhile less(i,y)\n",
    "\tbegin\n",
    "\t\tres := times(res,x);\n",
    "\t\ti := plus(i,1);\n",
    "        endwhile;\n",
    "\twrite res;\n",
    "\treturn res;\n",
    "\n",
    "endmethod;\n",
    "\n",
    "method main() vars a, b, x\n",
    "begin\n",
    "\n",
    "\ta := 5; \n",
    "\tb := 2;\n",
    "\tx := pow(b,a);\n",
    "\tif eq(x,32)\n",
    "\t\t then write 1; \n",
    "\telse \n",
    "\t\twrite 0;\n",
    "\tendif; \n",
    "endmethod;\"\n",
    "\n",
    "open Func\n",
    "let res = stream_to_list (Lexing.from_string ex1)"
   ]
  },
  {
   "cell_type": "markdown",
   "id": "4af2b3e2",
   "metadata": {},
   "source": [
    "## Part 2: Parsing (6 Points)"
   ]
  },
  {
   "cell_type": "markdown",
   "id": "44cbc00a",
   "metadata": {},
   "source": [
    "Below you can see an abstract grammar for the language you've seen before."
   ]
  },
  {
   "cell_type": "code",
   "execution_count": 299,
   "id": "21b8c168",
   "metadata": {},
   "outputs": [
    {
     "data": {
      "text/plain": [
       "type exp = Numb of int | Id of string | App of string * exp list\n"
      ]
     },
     "execution_count": 299,
     "metadata": {},
     "output_type": "execute_result"
    },
    {
     "data": {
      "text/plain": [
       "type bop = Less | LessEq | Eq | NEq\n"
      ]
     },
     "execution_count": 299,
     "metadata": {},
     "output_type": "execute_result"
    },
    {
     "data": {
      "text/plain": [
       "type cond = C of bop * exp * exp\n"
      ]
     },
     "execution_count": 299,
     "metadata": {},
     "output_type": "execute_result"
    },
    {
     "data": {
      "text/plain": [
       "type statement =\n",
       "    Assign of string * exp\n",
       "  | Read of string\n",
       "  | Write of exp\n",
       "  | If of cond * statement list\n",
       "  | Ite of cond * statement list * statement list\n",
       "  | While of cond * statement list\n"
      ]
     },
     "execution_count": 299,
     "metadata": {},
     "output_type": "execute_result"
    },
    {
     "data": {
      "text/plain": [
       "type mmethod =\n",
       "    M of string * string list * string list * statement list * string option\n"
      ]
     },
     "execution_count": 299,
     "metadata": {},
     "output_type": "execute_result"
    },
    {
     "data": {
      "text/plain": [
       "type program = P of mmethod list\n"
      ]
     },
     "execution_count": 299,
     "metadata": {},
     "output_type": "execute_result"
    }
   ],
   "source": [
    "(* Declaring the type of expressions*)\n",
    "type exp = Numb of int | Id of string | App of string * exp list\n",
    "\n",
    "(* Declaring the type of bop which are conditions statements*)\n",
    "type bop = Less | LessEq | Eq | NEq \n",
    "(* Declaring the type condition *)\n",
    "type cond = C of bop * exp * exp\n",
    "\n",
    "(* Declaring type of statements *)\n",
    "type statement =\n",
    "  Assign of string * exp\n",
    "| Read of string \n",
    "| Write of exp \n",
    "| If of cond * statement list\n",
    "| Ite of cond * statement list * statement list\n",
    "| While of cond * statement list\n",
    "\n",
    "(* Declaring type of method for declaring methods *)\n",
    "type mmethod = M of string (* name of function *)\n",
    "                * string list (* arguments *)\n",
    "                * string list (* declarations *) \n",
    "                * statement list (* function body *)\n",
    "                * string option (* possible return value value *)\n",
    "\n",
    "type program = P of mmethod list"
   ]
  },
  {
   "cell_type": "markdown",
   "id": "df7665a4",
   "metadata": {},
   "source": [
    "Write a recursive-descent parser for ``FUNC``.\n",
    "Your parser should contain at least: \n",
    "- a function ``parse_exp : token list -> exp * token list``\n",
    "- a function ``parse_cond : token list -> cond * token list``\n",
    "- a function ``parse_statement : token list -> statement * token list``\n",
    "- a function ``parse_program : program -> statement * token list``\n",
    "\n",
    "You will require more functions. \n",
    "You can get partial points by providing e.g. only ``parse_exp``. \n",
    "\n",
    "**Hints:** \n",
    "- Your parser does **not** have to ensure that variables, functions, the ``main`` function etc. exists or functions are applied to the right number of arguments.\n",
    "- You will want to test your program step-by-step, e.g. test that ``parse_exp`` runs as expected before writing ``parse_cond``. "
   ]
  },
  {
   "cell_type": "code",
   "execution_count": 300,
   "id": "2454acd9",
   "metadata": {},
   "outputs": [
    {
     "data": {
      "text/plain": [
       "exception SyntaxError of string\n"
      ]
     },
     "execution_count": 300,
     "metadata": {},
     "output_type": "execute_result"
    },
    {
     "data": {
      "text/plain": [
       "val print_token : Func.token -> string = <fun>\n"
      ]
     },
     "execution_count": 300,
     "metadata": {},
     "output_type": "execute_result"
    },
    {
     "data": {
      "text/plain": [
       "val print_list : Func.token list -> string = <fun>\n"
      ]
     },
     "execution_count": 300,
     "metadata": {},
     "output_type": "execute_result"
    }
   ],
   "source": [
    "exception SyntaxError of string\n",
    "open List\n",
    "\n",
    "(* Optional:\n",
    "   You might want to write a function to print tokens. \n",
    "   Comment out if not needed.  *) \n",
    "      \n",
    "let print_token (t : Func.token) : string = match t with \n",
    " | _ -> \"TO IMPLEMENT\" \n",
    "\n",
    "let rec print_list (s :  Func.token list) = match s with \n",
    "  | [] -> \"\"\n",
    "  | x :: xs -> String.cat (print_token x) (String.cat \" \" (print_list xs))"
   ]
  },
  {
   "cell_type": "code",
   "execution_count": 301,
   "id": "fb9da115",
   "metadata": {},
   "outputs": [
    {
     "data": {
      "text/plain": [
       "val parse_id : Func.token List.t -> string * Func.token list = <fun>\n"
      ]
     },
     "execution_count": 301,
     "metadata": {},
     "output_type": "execute_result"
    },
    {
     "data": {
      "text/plain": [
       "val parse_token : Func.token -> Func.token list -> Func.token list = <fun>\n"
      ]
     },
     "execution_count": 301,
     "metadata": {},
     "output_type": "execute_result"
    }
   ],
   "source": [
    "(* Optional helper functions *)\n",
    "let parse_id xs : string * token list = match xs with \n",
    " | ID x :: xs' -> (x, xs')\n",
    " | _ -> raise (SyntaxError \"Not an identifier.\")\n",
    "  \n",
    "let parse_token (x : token) (xs : token list) = match xs with \n",
    " | y :: ys -> if (x == y) then ys \n",
    "                 else raise (SyntaxError (String.cat \"Token expected: \"(String.cat (print_token x) (print_list xs) )))\n",
    " | _ -> raise (SyntaxError (String.cat \"Token expected: \"(String.cat (print_token x) (print_list xs) ))) "
   ]
  },
  {
   "cell_type": "code",
   "execution_count": 302,
   "id": "c0c20c16",
   "metadata": {},
   "outputs": [
    {
     "data": {
      "text/plain": [
       "val parse_exp : Func.token list -> exp * Func.token List.t = <fun>\n",
       "val parse_exps : Func.token list -> exp List.t * Func.token List.t = <fun>\n"
      ]
     },
     "execution_count": 302,
     "metadata": {},
     "output_type": "execute_result"
    }
   ],
   "source": [
    "\n",
    "(* Declaring function to parse expressions *)\n",
    "let rec parse_exp (ts : token list) : exp * token list = \n",
    "(* Switch case for ID and INT *)\n",
    "    match ts with\n",
    "(*   If ID is there then checking for expressions   *)\n",
    "    | ID x :: ts' -> ( match ts' with\n",
    "(*   Checking if Left Bracket is there or not   *)\n",
    "                       | LBRA :: ts'' -> (\n",
    "(*   Checking if more expressions or Right bracket is there         *)\n",
    "                                           match ts'' with\n",
    "(*                                         Checking if Right bracket is there or not for empty brackets    *)\n",
    "                                           | RBRA :: xs' -> (App(x,[]),xs')\n",
    "(*                                         Checkig if anything else is there or not     *)\n",
    "                                           |_ -> (\n",
    "(*                                          Calling parse_exps if there are more expressions   *)\n",
    "                                           let (e1,ts''') = parse_exps ts'' in\n",
    "                                            match ts''' with\n",
    "(*                                          Checking the Right Bracket after expressions    *)\n",
    "                                                |RBRA :: ts'''' -> (App(x,e1),ts'''')\n",
    "(*                                           Raising error is RBRA is not there       *)\n",
    "                                                |_->raise (SyntaxError \"RBRA Expected\")\n",
    "                                        ))\n",
    "(*                          Returning id if no other expressions are there                 *)\n",
    "                       | _ -> (Id(x),ts')\n",
    "                    )\n",
    "(*    CHecking and Returning if INT appears in list                  *)\n",
    "    | INT x :: ts' -> (Numb x, ts')\n",
    "(*    Raising error if ID or INT is not there  *)\n",
    "    | _ -> raise (SyntaxError \"ID or Int Expected\")\n",
    "\n",
    "(* Helper funciton for expressions *)\n",
    "and parse_exps (ts: token list) = \n",
    "(* Parsing the expressions first *)\n",
    "    let (e1,ts') = parse_exp ts in \n",
    "(*  Switch case for comma and more expressions     *)\n",
    "    match ts' with\n",
    "(*   Checking if comma is there or not and if yes, checking more expressions*)\n",
    "    | COMMA :: ts'' -> (let (e2,ts''') = parse_exps ts'' in\n",
    "(*    Returning the list with remaining list  *)\n",
    "                                (e1::e2,ts'''))\n",
    "(*    Returning result of parse_exp if no comma is there                              *)\n",
    "    | _ -> ([e1],ts')"
   ]
  },
  {
   "cell_type": "code",
   "execution_count": 303,
   "id": "cc4d837d",
   "metadata": {},
   "outputs": [
    {
     "data": {
      "text/plain": [
       "- : exp * Func.token List.t = (App (\"x\", [Id \"x\"; Id \"y\"]), [])\n"
      ]
     },
     "execution_count": 303,
     "metadata": {},
     "output_type": "execute_result"
    }
   ],
   "source": [
    "parse_exp [ID \"x\";LBRA;ID \"x\";COMMA;ID \"y\";RBRA]"
   ]
  },
  {
   "cell_type": "code",
   "execution_count": 304,
   "id": "6e8aff53",
   "metadata": {},
   "outputs": [
    {
     "data": {
      "text/plain": [
       "val parse_bop : Func.token list -> bop * Func.token list = <fun>\n"
      ]
     },
     "execution_count": 304,
     "metadata": {},
     "output_type": "execute_result"
    },
    {
     "data": {
      "text/plain": [
       "val parse_cond : Func.token list -> cond * Func.token list = <fun>\n"
      ]
     },
     "execution_count": 304,
     "metadata": {},
     "output_type": "execute_result"
    }
   ],
   "source": [
    "(* Helper funcitons for conditional operators *)\n",
    "let parse_bop (ts : token list) = \n",
    "(* Matching the conditional operators *)\n",
    "    match ts with \n",
    "    | LSE :: ts' -> (LessEq, ts')\n",
    "    | LS :: ts' -> (Less, ts')\n",
    "    | EQ :: ts' -> (Eq, ts')\n",
    "    | NEQ :: ts' -> (NEq, ts')\n",
    "(* Raising error is none of them is found *)\n",
    "    | _ -> raise (SyntaxError \"Expected LSE, LS, NEQ or EQ.\") \n",
    "    \n",
    "(* Funciton for parsing the conditional statements *)\n",
    "let parse_cond (ts : token list) : cond * token list =  \n",
    "(* Parsing the conditional operator *)\n",
    "    let (e1,ts') = parse_bop ts in \n",
    "    match ts' with \n",
    "(*   Checking whether LBRA is there or not   *)\n",
    "   | LBRA :: ts'' -> (match ts'' with\n",
    "(*   If RBRA is there , it means no expressions in brackets so returning tuple of type cond  *)\n",
    "                       | RBRA :: xs' -> (C(e1,Id \"\",Id \"\"),xs')\n",
    "                       |_ -> (\n",
    "(*                        Else getting the expression using parse_exp*)\n",
    "                           let (e2,ts''') = parse_exp ts'' in\n",
    "(*                          Parsing the comma after one expression   *)\n",
    "                           let xs = parse_token COMMA ts''' in\n",
    "(*                          Parsing one more expression for condition   *)\n",
    "                           let (e3,ys') = parse_exp xs in\n",
    "(*                          Switch case for matching the Right Bracket   *)\n",
    "                            match ys' with\n",
    "                            |RBRA :: ys'' -> (C(e1,e2,e3),ys'')\n",
    "(*                            Raising error is RBRA is not there  *)\n",
    "                            |_->raise (SyntaxError \"RBRA Expected\")\n",
    "                        )\n",
    "                    )\n",
    "(*   If LBRA Is not there returning cond                   *)\n",
    "   | _ -> (C(e1,Id \"\",Id \"\"),ts')"
   ]
  },
  {
   "cell_type": "code",
   "execution_count": 305,
   "id": "76de4ef9",
   "metadata": {},
   "outputs": [
    {
     "data": {
      "text/plain": [
       "- : cond * Func.token list = (C (Eq, Id \"x\", Numb 32), [])\n"
      ]
     },
     "execution_count": 305,
     "metadata": {},
     "output_type": "execute_result"
    }
   ],
   "source": [
    "parse_cond [EQ; LBRA; ID \"x\"; COMMA; INT 32; RBRA]"
   ]
  },
  {
   "cell_type": "code",
   "execution_count": 306,
   "id": "2f72bd4d",
   "metadata": {},
   "outputs": [
    {
     "data": {
      "text/plain": [
       "val parse_statement : Func.token list -> statement * Func.token list = <fun>\n",
       "val parse_assign : Func.token list -> statement * Func.token List.t = <fun>\n",
       "val parse_if : Func.token list -> statement * Func.token list = <fun>\n",
       "val parse_rw : Func.token list -> statement * Func.token List.t = <fun>\n",
       "val parse_while : Func.token list -> statement * Func.token list = <fun>\n",
       "val parse_statements : Func.token list -> statement * Func.token list = <fun>\n"
      ]
     },
     "execution_count": 306,
     "metadata": {},
     "output_type": "execute_result"
    }
   ],
   "source": [
    "(* Function for parsing the statement *)\n",
    "let rec parse_statement (ts : token list) : statement * token list = \n",
    "(* Switch case for chekcing the first token *)\n",
    "    match ts with\n",
    "(*  If token is ID then calling parse_assign    *)\n",
    "    |ID x :: ts' -> (let (e1,ts'')= parse_assign ts in (e1,ts''))\n",
    "    (*  If token is IF then calling parse_if    *)\n",
    "    |IF   :: ts' -> (let (e1,ts'')= parse_if ts in (e1,ts''))\n",
    "    (*  If token is READ then calling parse_rw    *)\n",
    "    |READ :: ts' -> (let (e1,ts'')= parse_rw ts in (e1,ts''))\n",
    "    (*  If token is WRITE then calling parse_rw    *)\n",
    "    |WRITE :: ts' -> (let (e1,ts'')= parse_rw ts in (e1,ts''))\n",
    "    (*  If token is WHILE then calling parse_while    *)\n",
    "    |WHILE :: ts' -> (let (e1,ts'')= parse_while ts in (e1,ts''))\n",
    "    (*  Raising error is nothing is there    *)\n",
    "    | _ -> raise (SyntaxError \"Statement Expected\")\n",
    "    \n",
    "(* Creating Helper function for assigning value to variable *)\n",
    "and parse_assign (ts : token list) = \n",
    "    match ts with \n",
    "(*  Checking if id and ASGN is there or not   *)\n",
    "    | ID x :: ASGN :: ts' -> (\n",
    "(*   Parsing the expression and returnign the Assign type   *)\n",
    "    let (e1,ts'') = parse_exp ts' in (Assign(x,e1),ts''))\n",
    "(*   Raising Error   *)\n",
    "    | _ -> raise (SyntaxError \"Id Expected\")\n",
    "\n",
    "(* Helper function for parsing if conditions *)\n",
    "and parse_if (ts: token list) = \n",
    "(* Parsing the IF token *)\n",
    "    let ts' = parse_token IF ts in \n",
    "(*  Parsing the conidiotn using parse_cond function    *)\n",
    "    let (e1,ts'') = parse_cond ts' in \n",
    "(*  Parsing the THEN token using parse_token   *)\n",
    "    let ts''' = parse_token THEN ts'' in\n",
    "(*  Parsing the statements using parse_statements function    *)\n",
    "    let (e2,xs') = parse_statements ts''' in\n",
    "(*  Checking wether ELSE condition is there or not    *)\n",
    "    match xs' with\n",
    "    | ELSE :: xs'' -> (\n",
    "(*   If there is else condition then parsing statements   *)\n",
    "                        let (e3,ys) = parse_statements xs'' in \n",
    "                        match ys with\n",
    "(*                       Checking if ENDIF is there or not   *)\n",
    "                        | ENDIF :: ys' -> (Ite(e1,[e2],[e3]),ys')\n",
    "(*                       Raising ERROR if ENDIF is not there   *)\n",
    "                        | _ -> raise (SyntaxError \"ENDIF Expected\")\n",
    "                    )\n",
    "(*    CHECKInf if ENDIF is there or not                  *)\n",
    "    | ENDIF :: xs'' -> (If(e1,[e2]),xs'')\n",
    "(*   Raising the ERROR if ENDIF is not there   *)\n",
    "    |_->raise (SyntaxError \"Else or ENDIF Expected\")\n",
    "\n",
    "(* Helper function for read and write tokens  *)\n",
    "and parse_rw (ts: token list) = \n",
    "    match ts with \n",
    "(*  Checking if READ and ID is there or not  and if it is there then returnign READ of ID  *)\n",
    "    | READ :: ID x :: ts' -> (Read(x),ts')\n",
    "(*  Checking id WRITE is there or not    *)\n",
    "    | WRITE :: ts' -> (\n",
    "(*    Parsing the expression  *)\n",
    "                        let (e1,xs) = parse_exp ts' in (Write(e1),xs)\n",
    "                        )\n",
    "(*      Raidsing error                    *)\n",
    "    | _ -> raise (SyntaxError \"READ or WRITE Expected\")\n",
    "\n",
    "and parse_while (ts:token list)=\n",
    "    let ts' = parse_token WHILE ts in \n",
    "    let (e1,ts'') = parse_cond ts' in \n",
    "    let xs = parse_token BEGIN ts'' in\n",
    "    let (e2,xs') = parse_statement xs in\n",
    "    let xs'' = parse_token ENDWHILE xs in\n",
    "    (While(e1,[e2]),xs'')\n",
    "\n",
    "and parse_statements (ts : token list) : statement * token list = \n",
    "    let (e1,ts') = parse_statement ts in \n",
    "    let  ts'' = parse_token SEMI ts' in \n",
    "      match ts'' with \n",
    "      |ID x :: xs -> (let (e2,ys) = parse_statements ts'' in (e2,ys))\n",
    "      |IF   :: xs -> (let (e2,ys) = parse_statements ts'' in (e2,ys))\n",
    "      |READ :: xs -> (let (e2,ys) = parse_statements ts'' in (e2,ys))\n",
    "      |WRITE :: xs -> (let (e2,ys) = parse_statements ts'' in (e2,ys))\n",
    "      |WHILE :: xs -> (let (e2,ys) = parse_statements ts'' in (e2,ys))\n",
    "      | _ -> (e1, ts'')\n",
    "    "
   ]
  },
  {
   "cell_type": "code",
   "execution_count": 307,
   "id": "aaa84c54",
   "metadata": {},
   "outputs": [
    {
     "data": {
      "text/plain": [
       "- : statement * Func.token list =\n",
       "(Ite (C (Eq, Id \"x\", Numb 32), [Write (Numb 1)], [Write (Numb 0)]), [SEMI])\n"
      ]
     },
     "execution_count": 307,
     "metadata": {},
     "output_type": "execute_result"
    }
   ],
   "source": [
    "parse_if [IF; EQ; LBRA; ID \"x\"; COMMA; INT 32; RBRA; THEN; WRITE; INT 1; SEMI; ELSE;\n",
    "   WRITE; INT 0; SEMI; ENDIF; SEMI]"
   ]
  },
  {
   "cell_type": "code",
   "execution_count": 308,
   "id": "00f14d36",
   "metadata": {},
   "outputs": [
    {
     "data": {
      "text/plain": [
       "val parse_args : Func.token list -> string List.t * Func.token list = <fun>\n"
      ]
     },
     "execution_count": 308,
     "metadata": {},
     "output_type": "execute_result"
    }
   ],
   "source": [
    "let rec parse_args (ts:token list) = \n",
    "    let (x,ts') = parse_id ts in\n",
    "    match ts' with\n",
    "    | COMMA :: xs -> (let (y,xs') = parse_args xs in (x::y,xs')\n",
    "                        )\n",
    "    | _ -> ([x],ts')\n",
    "\n",
    "(* and parse_method (ts : token list) : mmethod * token list =\n",
    "\n",
    "and parse_methods (ts : token list) = \n",
    "    (let (e1,ts') = parse_method ts in \n",
    "    (let  ts'' = parse_token SEMI ts' in \n",
    "      match ts'' with \n",
    "      | METHOD :: xs -> (let (e2,ys) = parse_methods ts'' in (e2,ys))\n",
    "      | _ -> (e1, ts'')))\n",
    "\n",
    "let parse_program (ts: token list) : program * token list =\n",
    "    let (e1,ts') = parse_methods ts in (P([e1]),ts')\n",
    " *)"
   ]
  },
  {
   "cell_type": "code",
   "execution_count": null,
   "id": "bfba998a",
   "metadata": {},
   "outputs": [],
   "source": []
  },
  {
   "cell_type": "markdown",
   "id": "860446cd",
   "metadata": {},
   "source": [
    "## Appendix - Example Programs"
   ]
  },
  {
   "cell_type": "code",
   "execution_count": null,
   "id": "4a6d5feb",
   "metadata": {},
   "outputs": [],
   "source": [
    "let ex1 = \"method pow(x, y) vars i, res\n",
    "begin\n",
    "\n",
    "\tres := x;\n",
    "\ti := 1;\n",
    "\twhile less(i,y)\n",
    "\tbegin\n",
    "\t\tres := times(res,x);\n",
    "\t\ti := plus(i,1);\n",
    "        endwhile;\n",
    "\twrite res;\n",
    "\treturn res;\n",
    "\n",
    "endmethod;\n",
    "\n",
    "method main() vars a, b, x\n",
    "begin\n",
    "\n",
    "\ta := 5;\n",
    "\tb := 2;\n",
    "\tx := pow(b,a);\n",
    "\tif eq(x,32)\n",
    "\t\t then write 1;\n",
    "\telse\n",
    "\t\twrite 0;\n",
    "\tendif;\n",
    "\n",
    "endmethod;\n",
    "\"    \n",
    "\n",
    "let ex2 = \"method pow(x,y) vars i, res,w\n",
    "begin\n",
    "\n",
    "\tres := x(da,da(1,2,m(1,1)),1);\n",
    "\ti := 2;\n",
    "\tif eq(x,32) then \n",
    "\t\twrite 1;\n",
    "\t\tread a;\n",
    "\telse\n",
    "\t\tb := 11;\n",
    "\tendif;\n",
    "\twhile less(i,y)\n",
    "\tbegin\n",
    "\t\tres := times(res,x);\n",
    "\t\ti := plus(i,1);\n",
    "        endwhile;\n",
    "\twrite res;\n",
    "\treturn res;\n",
    "\n",
    "endmethod;\n",
    "\n",
    "method main() vars a, b, x\n",
    "begin\n",
    "\n",
    "\ta := 5; \n",
    "\tb := 2;\n",
    "\tx := pow(b,a);\n",
    "\tif eq(x,32)\n",
    "\t\t then write 1; \n",
    "\telse \n",
    "\t\twrite 0;\n",
    "\tendif; \n",
    "endmethod;\"\n",
    "\n",
    "let ex3 = \"method main() vars inp, res\n",
    "begin\n",
    "read inp;\n",
    "res:=0;\n",
    "while less(0,inp)\n",
    "begin\n",
    "res := plus(res,inp);\n",
    "inp := minus(inp,1);\n",
    "endwhile;\n",
    "write res;\n",
    "endmethod;\n",
    "\"\n",
    "\n",
    "let ex4 = \"method sum(inp) vars res\n",
    "begin\n",
    "res:=0;\n",
    "while less(0,inp)\n",
    "begin\n",
    "res := plus(res,inp);\n",
    "inp := minus(inp,1);\n",
    "endwhile;\n",
    "return res;\n",
    "endmethod;\n",
    "\n",
    "method main() vars inp,res\n",
    "begin\n",
    "read inp;\n",
    "res := sum(inp);\n",
    "write res;\n",
    "endmethod;\"\n",
    "\n",
    "let ex5 = \"method sum(inp) vars tmp\n",
    "begin\n",
    "if eq(inp,0) then\n",
    "res := inp;\n",
    "else\n",
    "tmp := sum(minus(inp,1));\n",
    "res := plus(tmp,inp);\n",
    "endif;\n",
    "endmethod;\n",
    "\n",
    "method main() vars inp,res\n",
    "begin\n",
    "read inp;\n",
    "res := sum(inp);\n",
    "write res;\n",
    "endmethod;\"\n",
    "\n",
    "let text_to_ast ex = parse_program (stream_to_list (Lexing.from_string ex))\n",
    "\n",
    "(* Compare with what you expect *)\n",
    "let parsed1 = text_to_ast ex1 \n",
    "let parsed2 = text_to_ast ex2\n",
    "let parsed3 = text_to_ast ex3\n",
    "let parsed4 = text_to_ast ex4\n",
    "let parsed5 = text_to_ast ex5"
   ]
  },
  {
   "cell_type": "code",
   "execution_count": null,
   "id": "84a52c0a",
   "metadata": {},
   "outputs": [],
   "source": []
  }
 ],
 "metadata": {
  "kernelspec": {
   "display_name": "OCaml 4.13",
   "language": "OCaml",
   "name": "ocaml-jupyter-4.13"
  },
  "language_info": {
   "codemirror_mode": "text/x-ocaml",
   "file_extension": ".ml",
   "mimetype": "text/x-ocaml",
   "name": "OCaml",
   "nbconverter_exporter": null,
   "pygments_lexer": "OCaml",
   "version": "4.13.1"
  }
 },
 "nbformat": 4,
 "nbformat_minor": 5
}
